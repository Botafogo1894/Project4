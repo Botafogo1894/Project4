{
 "cells": [
  {
   "cell_type": "code",
   "execution_count": 68,
   "metadata": {},
   "outputs": [],
   "source": [
    "from sklearn.model_selection import train_test_split, GridSearchCV\n",
    "from sklearn.preprocessing import StandardScaler\n",
    "from sklearn.model_selection import cross_val_score\n",
    "from sklearn.tree import DecisionTreeClassifier\n",
    "from sklearn.ensemble import RandomForestClassifier, AdaBoostClassifier\n",
    "from sklearn.metrics import accuracy_score\n",
    "from sklearn.preprocessing import StandardScaler\n",
    "import matplotlib.patches as mpatches\n",
    "import matplotlib.pyplot as plt\n",
    "%matplotlib inline"
   ]
  },
  {
   "cell_type": "code",
   "execution_count": 2,
   "metadata": {
    "scrolled": true
   },
   "outputs": [],
   "source": [
    "import pandas as pd\n",
    "chart = pd.read_csv('data.csv')"
   ]
  },
  {
   "cell_type": "code",
   "execution_count": 3,
   "metadata": {
    "scrolled": true
   },
   "outputs": [
    {
     "data": {
      "text/plain": [
       "Index(['Unnamed: 0', 'ID', 'Name', 'Age', 'Photo', 'Nationality', 'Flag',\n",
       "       'Overall', 'Potential', 'Club', 'Club Logo', 'Value', 'Wage', 'Special',\n",
       "       'Preferred Foot', 'International Reputation', 'Weak Foot',\n",
       "       'Skill Moves', 'Work Rate', 'Body Type', 'Real Face', 'Position',\n",
       "       'Jersey Number', 'Joined', 'Loaned From', 'Contract Valid Until',\n",
       "       'Height', 'Weight', 'LS', 'ST', 'RS', 'LW', 'LF', 'CF', 'RF', 'RW',\n",
       "       'LAM', 'CAM', 'RAM', 'LM', 'LCM', 'CM', 'RCM', 'RM', 'LWB', 'LDM',\n",
       "       'CDM', 'RDM', 'RWB', 'LB', 'LCB', 'CB', 'RCB', 'RB', 'Crossing',\n",
       "       'Finishing', 'HeadingAccuracy', 'ShortPassing', 'Volleys', 'Dribbling',\n",
       "       'Curve', 'FKAccuracy', 'LongPassing', 'BallControl', 'Acceleration',\n",
       "       'SprintSpeed', 'Agility', 'Reactions', 'Balance', 'ShotPower',\n",
       "       'Jumping', 'Stamina', 'Strength', 'LongShots', 'Aggression',\n",
       "       'Interceptions', 'Positioning', 'Vision', 'Penalties', 'Composure',\n",
       "       'Marking', 'StandingTackle', 'SlidingTackle', 'GKDiving', 'GKHandling',\n",
       "       'GKKicking', 'GKPositioning', 'GKReflexes', 'Release Clause'],\n",
       "      dtype='object')"
      ]
     },
     "execution_count": 3,
     "metadata": {},
     "output_type": "execute_result"
    }
   ],
   "source": [
    "chart.columns"
   ]
  },
  {
   "cell_type": "code",
   "execution_count": 4,
   "metadata": {
    "scrolled": false
   },
   "outputs": [],
   "source": [
    "GK_df = chart[chart.Position == \"GK\"]\n",
    "ST_df = chart[chart.Position.isin([\"ST\", \"LF\", \"RF\", \"CF\", \"RS\", \"LS\", \"LW\", \"RW\"])]\n",
    "MD_df = chart[chart.Position.isin([\"RM\", \"LM\", \"CAM\", \"CDM\", \"LCM\", \"RCM\", \"RDM\", \"LDM\", \"RAM\", \"LAM\"])]\n",
    "DF_df = chart[chart.Position.isin([\"CB\", \"LB\", \"RB\", \"RCB\", \"LCB\", \"RWB\", \"LWB\"])]"
   ]
  },
  {
   "cell_type": "code",
   "execution_count": 5,
   "metadata": {},
   "outputs": [
    {
     "data": {
      "text/plain": [
       "Index(['Unnamed: 0', 'ID', 'Name', 'Age', 'Photo', 'Nationality', 'Flag',\n",
       "       'Overall', 'Potential', 'Club', 'Club Logo', 'Value', 'Wage', 'Special',\n",
       "       'Preferred Foot', 'International Reputation', 'Weak Foot',\n",
       "       'Skill Moves', 'Work Rate', 'Body Type', 'Real Face', 'Position',\n",
       "       'Jersey Number', 'Joined', 'Loaned From', 'Contract Valid Until',\n",
       "       'Height', 'Weight', 'LS', 'ST', 'RS', 'LW', 'LF', 'CF', 'RF', 'RW',\n",
       "       'LAM', 'CAM', 'RAM', 'LM', 'LCM', 'CM', 'RCM', 'RM', 'LWB', 'LDM',\n",
       "       'CDM', 'RDM', 'RWB', 'LB', 'LCB', 'CB', 'RCB', 'RB', 'Crossing',\n",
       "       'Finishing', 'HeadingAccuracy', 'ShortPassing', 'Volleys', 'Dribbling',\n",
       "       'Curve', 'FKAccuracy', 'LongPassing', 'BallControl', 'Acceleration',\n",
       "       'SprintSpeed', 'Agility', 'Reactions', 'Balance', 'ShotPower',\n",
       "       'Jumping', 'Stamina', 'Strength', 'LongShots', 'Aggression',\n",
       "       'Interceptions', 'Positioning', 'Vision', 'Penalties', 'Composure',\n",
       "       'Marking', 'StandingTackle', 'SlidingTackle', 'GKDiving', 'GKHandling',\n",
       "       'GKKicking', 'GKPositioning', 'GKReflexes', 'Release Clause'],\n",
       "      dtype='object')"
      ]
     },
     "execution_count": 5,
     "metadata": {},
     "output_type": "execute_result"
    }
   ],
   "source": [
    "GK_df.columns"
   ]
  },
  {
   "cell_type": "code",
   "execution_count": 35,
   "metadata": {},
   "outputs": [],
   "source": [
    "import re\n",
    "pattern = r'\\d+\\.?\\d?'\n",
    "matches = re.findall(pattern, \"$600.5K\")\n",
    "\n",
    "def convert_value(value):\n",
    "    pattern = r'\\d+\\.?\\d?'\n",
    "    if value.endswith(\"K\"):\n",
    "        matches = float(re.findall(pattern, value)[0])*1000\n",
    "    else:\n",
    "        matches = float(re.findall(pattern, value)[0])*1000000\n",
    "    return matches\n",
    "\n",
    "def convert_height(height):\n",
    "    split = height.split(\"'\")\n",
    "    height = int(split[0])*12 + int(split[1])\n",
    "    return height"
   ]
  },
  {
   "cell_type": "code",
   "execution_count": 44,
   "metadata": {},
   "outputs": [],
   "source": [
    "def preprocess_df(data):\n",
    "    final_df = data.drop(columns = ['Unnamed: 0', 'ID','Photo', 'Nationality', 'Flag','Club','Club Logo','LS', 'ST', 'RS', 'LW', 'LF', 'CF', 'RF', 'RW',\n",
    "       'LAM', 'CAM', 'RAM', 'LM', 'LCM', 'CM', 'RCM', 'RM', 'LWB', 'LDM', 'Wage',\n",
    "       'CDM', 'RDM', 'RWB', 'LB', 'LCB', 'CB', 'RCB', 'RB', 'Position', 'Preferred Foot',\n",
    "                                  'Real Face', 'Jersey Number', 'Joined', 'Loaned From', 'Contract Valid Until', 'Release Clause'], axis = 1)\n",
    "    final_df.dropna(inplace = True)\n",
    "    target = final_df['Value']\n",
    "    final_df.drop(columns=['Value'], inplace=True)\n",
    "    new_table = pd.concat([final_df, target], axis=1)\n",
    "    weight_new = list(new_table.Weight)\n",
    "    clean_weight = [int(item.replace('lbs', \"\")) for item in weight_new]\n",
    "    new_table[\"Weight\"] = clean_weight\n",
    "    height_new = list(new_table.Height)\n",
    "    final_height = [convert_height(item) for item in height_new]\n",
    "    new_table[\"Height\"] = final_height\n",
    "    new_values = [convert_value(item) for item in list(new_table.Value)]\n",
    "    new_table[\"Value\"] = new_values\n",
    "    \n",
    "    list_body = list(new_table['Body Type'])\n",
    "    names = ['Akinfenwa', 'PLAYER_BODY_TYPE_25', 'Shaqiri', 'Messi', 'Neymar', 'Courtois', 'C. Ronaldo']\n",
    "    for idx, item in enumerate(list_body):\n",
    "        if item in names:\n",
    "            list_body[idx] = \"Lean\"\n",
    "    new_table['Body Type'] = list_body\n",
    "    test_df = new_table.set_index(\"Name\")\n",
    "    dummies_df = test_df[['Body Type', 'Work Rate']]\n",
    "    target_final = test_df.Value\n",
    "    test_df.drop(columns = ['Body Type', 'Work Rate', 'Value'], axis = 1, inplace = True)\n",
    "    scaler = StandardScaler()\n",
    "    scaled_df = pd.DataFrame(scaler.fit_transform(test_df), columns = test_df.columns, index = test_df.index)\n",
    "    dummies_final = pd.get_dummies(dummies_df)\n",
    "    dummies_final.drop(columns = [\"Body Type_Stocky\"], inplace = True)\n",
    "    final_df = pd.concat([scaled_df, dummies_final], axis = 1)\n",
    "    return dict(test = test_df, final = final_df, target = target_final)\n",
    "    "
   ]
  },
  {
   "cell_type": "code",
   "execution_count": 49,
   "metadata": {},
   "outputs": [
    {
     "name": "stderr",
     "output_type": "stream",
     "text": [
      "/anaconda3/lib/python3.6/site-packages/sklearn/preprocessing/data.py:625: DataConversionWarning: Data with input dtype int64, float64 were all converted to float64 by StandardScaler.\n",
      "  return self.partial_fit(X, y)\n",
      "/anaconda3/lib/python3.6/site-packages/sklearn/base.py:462: DataConversionWarning: Data with input dtype int64, float64 were all converted to float64 by StandardScaler.\n",
      "  return self.fit(X, **fit_params).transform(X)\n",
      "/anaconda3/lib/python3.6/site-packages/sklearn/preprocessing/data.py:625: DataConversionWarning: Data with input dtype int64, float64 were all converted to float64 by StandardScaler.\n",
      "  return self.partial_fit(X, y)\n",
      "/anaconda3/lib/python3.6/site-packages/sklearn/base.py:462: DataConversionWarning: Data with input dtype int64, float64 were all converted to float64 by StandardScaler.\n",
      "  return self.fit(X, **fit_params).transform(X)\n"
     ]
    },
    {
     "data": {
      "text/plain": [
       "True"
      ]
     },
     "execution_count": 49,
     "metadata": {},
     "output_type": "execute_result"
    }
   ],
   "source": [
    "GK_final = preprocess_df(GK_df)['final']\n",
    "GK_target = preprocess_df(GK_df)['target']\n",
    "\n",
    "len(GK_final) == len(GK_target)"
   ]
  },
  {
   "cell_type": "code",
   "execution_count": 50,
   "metadata": {},
   "outputs": [
    {
     "name": "stderr",
     "output_type": "stream",
     "text": [
      "/anaconda3/lib/python3.6/site-packages/sklearn/preprocessing/data.py:625: DataConversionWarning: Data with input dtype int64, float64 were all converted to float64 by StandardScaler.\n",
      "  return self.partial_fit(X, y)\n",
      "/anaconda3/lib/python3.6/site-packages/sklearn/base.py:462: DataConversionWarning: Data with input dtype int64, float64 were all converted to float64 by StandardScaler.\n",
      "  return self.fit(X, **fit_params).transform(X)\n",
      "/anaconda3/lib/python3.6/site-packages/sklearn/preprocessing/data.py:625: DataConversionWarning: Data with input dtype int64, float64 were all converted to float64 by StandardScaler.\n",
      "  return self.partial_fit(X, y)\n",
      "/anaconda3/lib/python3.6/site-packages/sklearn/base.py:462: DataConversionWarning: Data with input dtype int64, float64 were all converted to float64 by StandardScaler.\n",
      "  return self.fit(X, **fit_params).transform(X)\n"
     ]
    },
    {
     "data": {
      "text/plain": [
       "True"
      ]
     },
     "execution_count": 50,
     "metadata": {},
     "output_type": "execute_result"
    }
   ],
   "source": [
    "ST_final = preprocess_df(ST_df)['final']\n",
    "ST_target = preprocess_df(ST_df)['target']\n",
    "\n",
    "len(ST_final) == len(ST_target)"
   ]
  },
  {
   "cell_type": "code",
   "execution_count": 51,
   "metadata": {},
   "outputs": [
    {
     "name": "stderr",
     "output_type": "stream",
     "text": [
      "/anaconda3/lib/python3.6/site-packages/sklearn/preprocessing/data.py:625: DataConversionWarning: Data with input dtype int64, float64 were all converted to float64 by StandardScaler.\n",
      "  return self.partial_fit(X, y)\n",
      "/anaconda3/lib/python3.6/site-packages/sklearn/base.py:462: DataConversionWarning: Data with input dtype int64, float64 were all converted to float64 by StandardScaler.\n",
      "  return self.fit(X, **fit_params).transform(X)\n",
      "/anaconda3/lib/python3.6/site-packages/sklearn/preprocessing/data.py:625: DataConversionWarning: Data with input dtype int64, float64 were all converted to float64 by StandardScaler.\n",
      "  return self.partial_fit(X, y)\n",
      "/anaconda3/lib/python3.6/site-packages/sklearn/base.py:462: DataConversionWarning: Data with input dtype int64, float64 were all converted to float64 by StandardScaler.\n",
      "  return self.fit(X, **fit_params).transform(X)\n"
     ]
    },
    {
     "data": {
      "text/plain": [
       "True"
      ]
     },
     "execution_count": 51,
     "metadata": {},
     "output_type": "execute_result"
    }
   ],
   "source": [
    "DF_final = preprocess_df(DF_df)['final']\n",
    "DF_target = preprocess_df(DF_df)['target']\n",
    "\n",
    "len(DF_final) == len(DF_target)"
   ]
  },
  {
   "cell_type": "code",
   "execution_count": 55,
   "metadata": {},
   "outputs": [
    {
     "name": "stderr",
     "output_type": "stream",
     "text": [
      "/anaconda3/lib/python3.6/site-packages/sklearn/preprocessing/data.py:625: DataConversionWarning: Data with input dtype int64, float64 were all converted to float64 by StandardScaler.\n",
      "  return self.partial_fit(X, y)\n",
      "/anaconda3/lib/python3.6/site-packages/sklearn/base.py:462: DataConversionWarning: Data with input dtype int64, float64 were all converted to float64 by StandardScaler.\n",
      "  return self.fit(X, **fit_params).transform(X)\n",
      "/anaconda3/lib/python3.6/site-packages/sklearn/preprocessing/data.py:625: DataConversionWarning: Data with input dtype int64, float64 were all converted to float64 by StandardScaler.\n",
      "  return self.partial_fit(X, y)\n",
      "/anaconda3/lib/python3.6/site-packages/sklearn/base.py:462: DataConversionWarning: Data with input dtype int64, float64 were all converted to float64 by StandardScaler.\n",
      "  return self.fit(X, **fit_params).transform(X)\n"
     ]
    },
    {
     "data": {
      "text/plain": [
       "True"
      ]
     },
     "execution_count": 55,
     "metadata": {},
     "output_type": "execute_result"
    }
   ],
   "source": [
    "MD_final = preprocess_df(MD_df)['final']\n",
    "MD_target = preprocess_df(MD_df)['target']\n",
    "\n",
    "len(MD_final) == len(MD_target)"
   ]
  },
  {
   "cell_type": "code",
   "execution_count": 8,
   "metadata": {},
   "outputs": [
    {
     "data": {
      "text/html": [
       "<div>\n",
       "<style scoped>\n",
       "    .dataframe tbody tr th:only-of-type {\n",
       "        vertical-align: middle;\n",
       "    }\n",
       "\n",
       "    .dataframe tbody tr th {\n",
       "        vertical-align: top;\n",
       "    }\n",
       "\n",
       "    .dataframe thead th {\n",
       "        text-align: right;\n",
       "    }\n",
       "</style>\n",
       "<table border=\"1\" class=\"dataframe\">\n",
       "  <thead>\n",
       "    <tr style=\"text-align: right;\">\n",
       "      <th></th>\n",
       "      <th>Unnamed: 0</th>\n",
       "      <th>ID</th>\n",
       "      <th>Name</th>\n",
       "      <th>Age</th>\n",
       "      <th>Photo</th>\n",
       "      <th>Nationality</th>\n",
       "      <th>Flag</th>\n",
       "      <th>Overall</th>\n",
       "      <th>Potential</th>\n",
       "      <th>Club</th>\n",
       "      <th>Club Logo</th>\n",
       "      <th>Value</th>\n",
       "      <th>Wage</th>\n",
       "      <th>Special</th>\n",
       "      <th>Preferred Foot</th>\n",
       "      <th>International Reputation</th>\n",
       "      <th>Weak Foot</th>\n",
       "      <th>Skill Moves</th>\n",
       "      <th>Work Rate</th>\n",
       "      <th>Body Type</th>\n",
       "      <th>Real Face</th>\n",
       "      <th>Position</th>\n",
       "      <th>Jersey Number</th>\n",
       "      <th>Joined</th>\n",
       "      <th>Loaned From</th>\n",
       "      <th>Contract Valid Until</th>\n",
       "      <th>Height</th>\n",
       "      <th>Weight</th>\n",
       "      <th>LS</th>\n",
       "      <th>ST</th>\n",
       "      <th>RS</th>\n",
       "      <th>LW</th>\n",
       "      <th>LF</th>\n",
       "      <th>CF</th>\n",
       "      <th>RF</th>\n",
       "      <th>RW</th>\n",
       "      <th>LAM</th>\n",
       "      <th>CAM</th>\n",
       "      <th>RAM</th>\n",
       "      <th>LM</th>\n",
       "      <th>LCM</th>\n",
       "      <th>CM</th>\n",
       "      <th>RCM</th>\n",
       "      <th>RM</th>\n",
       "      <th>LWB</th>\n",
       "      <th>LDM</th>\n",
       "      <th>CDM</th>\n",
       "      <th>RDM</th>\n",
       "      <th>RWB</th>\n",
       "      <th>LB</th>\n",
       "      <th>LCB</th>\n",
       "      <th>CB</th>\n",
       "      <th>RCB</th>\n",
       "      <th>RB</th>\n",
       "      <th>Crossing</th>\n",
       "      <th>Finishing</th>\n",
       "      <th>HeadingAccuracy</th>\n",
       "      <th>ShortPassing</th>\n",
       "      <th>Volleys</th>\n",
       "      <th>Dribbling</th>\n",
       "      <th>Curve</th>\n",
       "      <th>FKAccuracy</th>\n",
       "      <th>LongPassing</th>\n",
       "      <th>BallControl</th>\n",
       "      <th>Acceleration</th>\n",
       "      <th>SprintSpeed</th>\n",
       "      <th>Agility</th>\n",
       "      <th>Reactions</th>\n",
       "      <th>Balance</th>\n",
       "      <th>ShotPower</th>\n",
       "      <th>Jumping</th>\n",
       "      <th>Stamina</th>\n",
       "      <th>Strength</th>\n",
       "      <th>LongShots</th>\n",
       "      <th>Aggression</th>\n",
       "      <th>Interceptions</th>\n",
       "      <th>Positioning</th>\n",
       "      <th>Vision</th>\n",
       "      <th>Penalties</th>\n",
       "      <th>Composure</th>\n",
       "      <th>Marking</th>\n",
       "      <th>StandingTackle</th>\n",
       "      <th>SlidingTackle</th>\n",
       "      <th>GKDiving</th>\n",
       "      <th>GKHandling</th>\n",
       "      <th>GKKicking</th>\n",
       "      <th>GKPositioning</th>\n",
       "      <th>GKReflexes</th>\n",
       "      <th>Release Clause</th>\n",
       "    </tr>\n",
       "  </thead>\n",
       "  <tbody>\n",
       "    <tr>\n",
       "      <th>0</th>\n",
       "      <td>0</td>\n",
       "      <td>158023</td>\n",
       "      <td>L. Messi</td>\n",
       "      <td>31</td>\n",
       "      <td>https://cdn.sofifa.org/players/4/19/158023.png</td>\n",
       "      <td>Argentina</td>\n",
       "      <td>https://cdn.sofifa.org/flags/52.png</td>\n",
       "      <td>94</td>\n",
       "      <td>94</td>\n",
       "      <td>FC Barcelona</td>\n",
       "      <td>https://cdn.sofifa.org/teams/2/light/241.png</td>\n",
       "      <td>€110.5M</td>\n",
       "      <td>€565K</td>\n",
       "      <td>2202</td>\n",
       "      <td>Left</td>\n",
       "      <td>5.0</td>\n",
       "      <td>4.0</td>\n",
       "      <td>4.0</td>\n",
       "      <td>Medium/ Medium</td>\n",
       "      <td>Messi</td>\n",
       "      <td>Yes</td>\n",
       "      <td>RF</td>\n",
       "      <td>10.0</td>\n",
       "      <td>Jul 1, 2004</td>\n",
       "      <td>NaN</td>\n",
       "      <td>2021</td>\n",
       "      <td>5'7</td>\n",
       "      <td>159lbs</td>\n",
       "      <td>88+2</td>\n",
       "      <td>88+2</td>\n",
       "      <td>88+2</td>\n",
       "      <td>92+2</td>\n",
       "      <td>93+2</td>\n",
       "      <td>93+2</td>\n",
       "      <td>93+2</td>\n",
       "      <td>92+2</td>\n",
       "      <td>93+2</td>\n",
       "      <td>93+2</td>\n",
       "      <td>93+2</td>\n",
       "      <td>91+2</td>\n",
       "      <td>84+2</td>\n",
       "      <td>84+2</td>\n",
       "      <td>84+2</td>\n",
       "      <td>91+2</td>\n",
       "      <td>64+2</td>\n",
       "      <td>61+2</td>\n",
       "      <td>61+2</td>\n",
       "      <td>61+2</td>\n",
       "      <td>64+2</td>\n",
       "      <td>59+2</td>\n",
       "      <td>47+2</td>\n",
       "      <td>47+2</td>\n",
       "      <td>47+2</td>\n",
       "      <td>59+2</td>\n",
       "      <td>84.0</td>\n",
       "      <td>95.0</td>\n",
       "      <td>70.0</td>\n",
       "      <td>90.0</td>\n",
       "      <td>86.0</td>\n",
       "      <td>97.0</td>\n",
       "      <td>93.0</td>\n",
       "      <td>94.0</td>\n",
       "      <td>87.0</td>\n",
       "      <td>96.0</td>\n",
       "      <td>91.0</td>\n",
       "      <td>86.0</td>\n",
       "      <td>91.0</td>\n",
       "      <td>95.0</td>\n",
       "      <td>95.0</td>\n",
       "      <td>85.0</td>\n",
       "      <td>68.0</td>\n",
       "      <td>72.0</td>\n",
       "      <td>59.0</td>\n",
       "      <td>94.0</td>\n",
       "      <td>48.0</td>\n",
       "      <td>22.0</td>\n",
       "      <td>94.0</td>\n",
       "      <td>94.0</td>\n",
       "      <td>75.0</td>\n",
       "      <td>96.0</td>\n",
       "      <td>33.0</td>\n",
       "      <td>28.0</td>\n",
       "      <td>26.0</td>\n",
       "      <td>6.0</td>\n",
       "      <td>11.0</td>\n",
       "      <td>15.0</td>\n",
       "      <td>14.0</td>\n",
       "      <td>8.0</td>\n",
       "      <td>€226.5M</td>\n",
       "    </tr>\n",
       "  </tbody>\n",
       "</table>\n",
       "</div>"
      ],
      "text/plain": [
       "   Unnamed: 0      ID      Name  Age  \\\n",
       "0           0  158023  L. Messi   31   \n",
       "\n",
       "                                            Photo Nationality  \\\n",
       "0  https://cdn.sofifa.org/players/4/19/158023.png   Argentina   \n",
       "\n",
       "                                  Flag  Overall  Potential          Club  \\\n",
       "0  https://cdn.sofifa.org/flags/52.png       94         94  FC Barcelona   \n",
       "\n",
       "                                      Club Logo    Value   Wage  Special  \\\n",
       "0  https://cdn.sofifa.org/teams/2/light/241.png  €110.5M  €565K     2202   \n",
       "\n",
       "  Preferred Foot  International Reputation  Weak Foot  Skill Moves  \\\n",
       "0           Left                       5.0        4.0          4.0   \n",
       "\n",
       "        Work Rate Body Type Real Face Position  Jersey Number       Joined  \\\n",
       "0  Medium/ Medium     Messi       Yes       RF           10.0  Jul 1, 2004   \n",
       "\n",
       "  Loaned From Contract Valid Until Height  Weight    LS    ST    RS    LW  \\\n",
       "0         NaN                 2021    5'7  159lbs  88+2  88+2  88+2  92+2   \n",
       "\n",
       "     LF    CF    RF    RW   LAM   CAM   RAM    LM   LCM    CM   RCM    RM  \\\n",
       "0  93+2  93+2  93+2  92+2  93+2  93+2  93+2  91+2  84+2  84+2  84+2  91+2   \n",
       "\n",
       "    LWB   LDM   CDM   RDM   RWB    LB   LCB    CB   RCB    RB  Crossing  \\\n",
       "0  64+2  61+2  61+2  61+2  64+2  59+2  47+2  47+2  47+2  59+2      84.0   \n",
       "\n",
       "   Finishing  HeadingAccuracy  ShortPassing  Volleys  Dribbling  Curve  \\\n",
       "0       95.0             70.0          90.0     86.0       97.0   93.0   \n",
       "\n",
       "   FKAccuracy  LongPassing  BallControl  Acceleration  SprintSpeed  Agility  \\\n",
       "0        94.0         87.0         96.0          91.0         86.0     91.0   \n",
       "\n",
       "   Reactions  Balance  ShotPower  Jumping  Stamina  Strength  LongShots  \\\n",
       "0       95.0     95.0       85.0     68.0     72.0      59.0       94.0   \n",
       "\n",
       "   Aggression  Interceptions  Positioning  Vision  Penalties  Composure  \\\n",
       "0        48.0           22.0         94.0    94.0       75.0       96.0   \n",
       "\n",
       "   Marking  StandingTackle  SlidingTackle  GKDiving  GKHandling  GKKicking  \\\n",
       "0     33.0            28.0           26.0       6.0        11.0       15.0   \n",
       "\n",
       "   GKPositioning  GKReflexes Release Clause  \n",
       "0           14.0         8.0        €226.5M  "
      ]
     },
     "execution_count": 8,
     "metadata": {},
     "output_type": "execute_result"
    }
   ],
   "source": [
    "pd.set_option('display.max_columns', 100)\n",
    "chart.head(1)"
   ]
  },
  {
   "cell_type": "code",
   "execution_count": 9,
   "metadata": {},
   "outputs": [
    {
     "data": {
      "text/plain": [
       "(18207, 89)"
      ]
     },
     "execution_count": 9,
     "metadata": {},
     "output_type": "execute_result"
    }
   ],
   "source": [
    "chart.shape"
   ]
  },
  {
   "cell_type": "code",
   "execution_count": 10,
   "metadata": {},
   "outputs": [],
   "source": [
    "final_df = chart.drop(columns = ['Unnamed: 0', 'ID','Photo', 'Nationality', 'Flag','Club','Club Logo','LS', 'ST', 'RS', 'LW', 'LF', 'CF', 'RF', 'RW',\n",
    "       'LAM', 'CAM', 'RAM', 'LM', 'LCM', 'CM', 'RCM', 'RM', 'LWB', 'LDM',\n",
    "       'CDM', 'RDM', 'RWB', 'LB', 'LCB', 'CB', 'RCB', 'RB', 'Position', 'Preferred Foot', 'Wage',\n",
    "                                  'Real Face', 'Jersey Number', 'Joined', 'Loaned From', 'Contract Valid Until', 'Release Clause'], axis = 1)"
   ]
  },
  {
   "cell_type": "code",
   "execution_count": 11,
   "metadata": {},
   "outputs": [
    {
     "data": {
      "text/plain": [
       "(18207, 47)"
      ]
     },
     "execution_count": 11,
     "metadata": {},
     "output_type": "execute_result"
    }
   ],
   "source": [
    "final_df.shape"
   ]
  },
  {
   "cell_type": "code",
   "execution_count": 12,
   "metadata": {},
   "outputs": [
    {
     "data": {
      "text/plain": [
       "Name                         0\n",
       "Age                          0\n",
       "Overall                      0\n",
       "Potential                    0\n",
       "Value                        0\n",
       "Special                      0\n",
       "International Reputation    48\n",
       "Weak Foot                   48\n",
       "Skill Moves                 48\n",
       "Work Rate                   48\n",
       "Body Type                   48\n",
       "Height                      48\n",
       "Weight                      48\n",
       "Crossing                    48\n",
       "Finishing                   48\n",
       "HeadingAccuracy             48\n",
       "ShortPassing                48\n",
       "Volleys                     48\n",
       "Dribbling                   48\n",
       "Curve                       48\n",
       "FKAccuracy                  48\n",
       "LongPassing                 48\n",
       "BallControl                 48\n",
       "Acceleration                48\n",
       "SprintSpeed                 48\n",
       "Agility                     48\n",
       "Reactions                   48\n",
       "Balance                     48\n",
       "ShotPower                   48\n",
       "Jumping                     48\n",
       "Stamina                     48\n",
       "Strength                    48\n",
       "LongShots                   48\n",
       "Aggression                  48\n",
       "Interceptions               48\n",
       "Positioning                 48\n",
       "Vision                      48\n",
       "Penalties                   48\n",
       "Composure                   48\n",
       "Marking                     48\n",
       "StandingTackle              48\n",
       "SlidingTackle               48\n",
       "GKDiving                    48\n",
       "GKHandling                  48\n",
       "GKKicking                   48\n",
       "GKPositioning               48\n",
       "GKReflexes                  48\n",
       "dtype: int64"
      ]
     },
     "execution_count": 12,
     "metadata": {},
     "output_type": "execute_result"
    }
   ],
   "source": [
    "final_df.isna().sum()"
   ]
  },
  {
   "cell_type": "code",
   "execution_count": 13,
   "metadata": {},
   "outputs": [],
   "source": [
    "final_df.dropna(inplace = True)"
   ]
  },
  {
   "cell_type": "code",
   "execution_count": 14,
   "metadata": {},
   "outputs": [
    {
     "data": {
      "text/plain": [
       "(18159, 47)"
      ]
     },
     "execution_count": 14,
     "metadata": {},
     "output_type": "execute_result"
    }
   ],
   "source": [
    "final_df.shape"
   ]
  },
  {
   "cell_type": "code",
   "execution_count": 15,
   "metadata": {},
   "outputs": [
    {
     "data": {
      "text/plain": [
       "Index(['Name', 'Age', 'Overall', 'Potential', 'Value', 'Special',\n",
       "       'International Reputation', 'Weak Foot', 'Skill Moves', 'Work Rate',\n",
       "       'Body Type', 'Height', 'Weight', 'Crossing', 'Finishing',\n",
       "       'HeadingAccuracy', 'ShortPassing', 'Volleys', 'Dribbling', 'Curve',\n",
       "       'FKAccuracy', 'LongPassing', 'BallControl', 'Acceleration',\n",
       "       'SprintSpeed', 'Agility', 'Reactions', 'Balance', 'ShotPower',\n",
       "       'Jumping', 'Stamina', 'Strength', 'LongShots', 'Aggression',\n",
       "       'Interceptions', 'Positioning', 'Vision', 'Penalties', 'Composure',\n",
       "       'Marking', 'StandingTackle', 'SlidingTackle', 'GKDiving', 'GKHandling',\n",
       "       'GKKicking', 'GKPositioning', 'GKReflexes'],\n",
       "      dtype='object')"
      ]
     },
     "execution_count": 15,
     "metadata": {},
     "output_type": "execute_result"
    }
   ],
   "source": [
    "final_df.columns"
   ]
  },
  {
   "cell_type": "code",
   "execution_count": 16,
   "metadata": {},
   "outputs": [
    {
     "data": {
      "text/html": [
       "<div>\n",
       "<style scoped>\n",
       "    .dataframe tbody tr th:only-of-type {\n",
       "        vertical-align: middle;\n",
       "    }\n",
       "\n",
       "    .dataframe tbody tr th {\n",
       "        vertical-align: top;\n",
       "    }\n",
       "\n",
       "    .dataframe thead th {\n",
       "        text-align: right;\n",
       "    }\n",
       "</style>\n",
       "<table border=\"1\" class=\"dataframe\">\n",
       "  <thead>\n",
       "    <tr style=\"text-align: right;\">\n",
       "      <th></th>\n",
       "      <th>Name</th>\n",
       "      <th>Age</th>\n",
       "      <th>Overall</th>\n",
       "      <th>Potential</th>\n",
       "      <th>Special</th>\n",
       "      <th>International Reputation</th>\n",
       "      <th>Weak Foot</th>\n",
       "      <th>Skill Moves</th>\n",
       "      <th>Work Rate</th>\n",
       "      <th>Body Type</th>\n",
       "      <th>Height</th>\n",
       "      <th>Weight</th>\n",
       "      <th>Crossing</th>\n",
       "      <th>Finishing</th>\n",
       "      <th>HeadingAccuracy</th>\n",
       "      <th>ShortPassing</th>\n",
       "      <th>Volleys</th>\n",
       "      <th>Dribbling</th>\n",
       "      <th>Curve</th>\n",
       "      <th>FKAccuracy</th>\n",
       "      <th>LongPassing</th>\n",
       "      <th>BallControl</th>\n",
       "      <th>Acceleration</th>\n",
       "      <th>SprintSpeed</th>\n",
       "      <th>Agility</th>\n",
       "      <th>Reactions</th>\n",
       "      <th>Balance</th>\n",
       "      <th>ShotPower</th>\n",
       "      <th>Jumping</th>\n",
       "      <th>Stamina</th>\n",
       "      <th>Strength</th>\n",
       "      <th>LongShots</th>\n",
       "      <th>Aggression</th>\n",
       "      <th>Interceptions</th>\n",
       "      <th>Positioning</th>\n",
       "      <th>Vision</th>\n",
       "      <th>Penalties</th>\n",
       "      <th>Composure</th>\n",
       "      <th>Marking</th>\n",
       "      <th>StandingTackle</th>\n",
       "      <th>SlidingTackle</th>\n",
       "      <th>GKDiving</th>\n",
       "      <th>GKHandling</th>\n",
       "      <th>GKKicking</th>\n",
       "      <th>GKPositioning</th>\n",
       "      <th>GKReflexes</th>\n",
       "      <th>Value</th>\n",
       "    </tr>\n",
       "  </thead>\n",
       "  <tbody>\n",
       "    <tr>\n",
       "      <th>0</th>\n",
       "      <td>L. Messi</td>\n",
       "      <td>31</td>\n",
       "      <td>94</td>\n",
       "      <td>94</td>\n",
       "      <td>2202</td>\n",
       "      <td>5.0</td>\n",
       "      <td>4.0</td>\n",
       "      <td>4.0</td>\n",
       "      <td>Medium/ Medium</td>\n",
       "      <td>Messi</td>\n",
       "      <td>5'7</td>\n",
       "      <td>159lbs</td>\n",
       "      <td>84.0</td>\n",
       "      <td>95.0</td>\n",
       "      <td>70.0</td>\n",
       "      <td>90.0</td>\n",
       "      <td>86.0</td>\n",
       "      <td>97.0</td>\n",
       "      <td>93.0</td>\n",
       "      <td>94.0</td>\n",
       "      <td>87.0</td>\n",
       "      <td>96.0</td>\n",
       "      <td>91.0</td>\n",
       "      <td>86.0</td>\n",
       "      <td>91.0</td>\n",
       "      <td>95.0</td>\n",
       "      <td>95.0</td>\n",
       "      <td>85.0</td>\n",
       "      <td>68.0</td>\n",
       "      <td>72.0</td>\n",
       "      <td>59.0</td>\n",
       "      <td>94.0</td>\n",
       "      <td>48.0</td>\n",
       "      <td>22.0</td>\n",
       "      <td>94.0</td>\n",
       "      <td>94.0</td>\n",
       "      <td>75.0</td>\n",
       "      <td>96.0</td>\n",
       "      <td>33.0</td>\n",
       "      <td>28.0</td>\n",
       "      <td>26.0</td>\n",
       "      <td>6.0</td>\n",
       "      <td>11.0</td>\n",
       "      <td>15.0</td>\n",
       "      <td>14.0</td>\n",
       "      <td>8.0</td>\n",
       "      <td>€110.5M</td>\n",
       "    </tr>\n",
       "    <tr>\n",
       "      <th>1</th>\n",
       "      <td>Cristiano Ronaldo</td>\n",
       "      <td>33</td>\n",
       "      <td>94</td>\n",
       "      <td>94</td>\n",
       "      <td>2228</td>\n",
       "      <td>5.0</td>\n",
       "      <td>4.0</td>\n",
       "      <td>5.0</td>\n",
       "      <td>High/ Low</td>\n",
       "      <td>C. Ronaldo</td>\n",
       "      <td>6'2</td>\n",
       "      <td>183lbs</td>\n",
       "      <td>84.0</td>\n",
       "      <td>94.0</td>\n",
       "      <td>89.0</td>\n",
       "      <td>81.0</td>\n",
       "      <td>87.0</td>\n",
       "      <td>88.0</td>\n",
       "      <td>81.0</td>\n",
       "      <td>76.0</td>\n",
       "      <td>77.0</td>\n",
       "      <td>94.0</td>\n",
       "      <td>89.0</td>\n",
       "      <td>91.0</td>\n",
       "      <td>87.0</td>\n",
       "      <td>96.0</td>\n",
       "      <td>70.0</td>\n",
       "      <td>95.0</td>\n",
       "      <td>95.0</td>\n",
       "      <td>88.0</td>\n",
       "      <td>79.0</td>\n",
       "      <td>93.0</td>\n",
       "      <td>63.0</td>\n",
       "      <td>29.0</td>\n",
       "      <td>95.0</td>\n",
       "      <td>82.0</td>\n",
       "      <td>85.0</td>\n",
       "      <td>95.0</td>\n",
       "      <td>28.0</td>\n",
       "      <td>31.0</td>\n",
       "      <td>23.0</td>\n",
       "      <td>7.0</td>\n",
       "      <td>11.0</td>\n",
       "      <td>15.0</td>\n",
       "      <td>14.0</td>\n",
       "      <td>11.0</td>\n",
       "      <td>€77M</td>\n",
       "    </tr>\n",
       "    <tr>\n",
       "      <th>2</th>\n",
       "      <td>Neymar Jr</td>\n",
       "      <td>26</td>\n",
       "      <td>92</td>\n",
       "      <td>93</td>\n",
       "      <td>2143</td>\n",
       "      <td>5.0</td>\n",
       "      <td>5.0</td>\n",
       "      <td>5.0</td>\n",
       "      <td>High/ Medium</td>\n",
       "      <td>Neymar</td>\n",
       "      <td>5'9</td>\n",
       "      <td>150lbs</td>\n",
       "      <td>79.0</td>\n",
       "      <td>87.0</td>\n",
       "      <td>62.0</td>\n",
       "      <td>84.0</td>\n",
       "      <td>84.0</td>\n",
       "      <td>96.0</td>\n",
       "      <td>88.0</td>\n",
       "      <td>87.0</td>\n",
       "      <td>78.0</td>\n",
       "      <td>95.0</td>\n",
       "      <td>94.0</td>\n",
       "      <td>90.0</td>\n",
       "      <td>96.0</td>\n",
       "      <td>94.0</td>\n",
       "      <td>84.0</td>\n",
       "      <td>80.0</td>\n",
       "      <td>61.0</td>\n",
       "      <td>81.0</td>\n",
       "      <td>49.0</td>\n",
       "      <td>82.0</td>\n",
       "      <td>56.0</td>\n",
       "      <td>36.0</td>\n",
       "      <td>89.0</td>\n",
       "      <td>87.0</td>\n",
       "      <td>81.0</td>\n",
       "      <td>94.0</td>\n",
       "      <td>27.0</td>\n",
       "      <td>24.0</td>\n",
       "      <td>33.0</td>\n",
       "      <td>9.0</td>\n",
       "      <td>9.0</td>\n",
       "      <td>15.0</td>\n",
       "      <td>15.0</td>\n",
       "      <td>11.0</td>\n",
       "      <td>€118.5M</td>\n",
       "    </tr>\n",
       "    <tr>\n",
       "      <th>3</th>\n",
       "      <td>De Gea</td>\n",
       "      <td>27</td>\n",
       "      <td>91</td>\n",
       "      <td>93</td>\n",
       "      <td>1471</td>\n",
       "      <td>4.0</td>\n",
       "      <td>3.0</td>\n",
       "      <td>1.0</td>\n",
       "      <td>Medium/ Medium</td>\n",
       "      <td>Lean</td>\n",
       "      <td>6'4</td>\n",
       "      <td>168lbs</td>\n",
       "      <td>17.0</td>\n",
       "      <td>13.0</td>\n",
       "      <td>21.0</td>\n",
       "      <td>50.0</td>\n",
       "      <td>13.0</td>\n",
       "      <td>18.0</td>\n",
       "      <td>21.0</td>\n",
       "      <td>19.0</td>\n",
       "      <td>51.0</td>\n",
       "      <td>42.0</td>\n",
       "      <td>57.0</td>\n",
       "      <td>58.0</td>\n",
       "      <td>60.0</td>\n",
       "      <td>90.0</td>\n",
       "      <td>43.0</td>\n",
       "      <td>31.0</td>\n",
       "      <td>67.0</td>\n",
       "      <td>43.0</td>\n",
       "      <td>64.0</td>\n",
       "      <td>12.0</td>\n",
       "      <td>38.0</td>\n",
       "      <td>30.0</td>\n",
       "      <td>12.0</td>\n",
       "      <td>68.0</td>\n",
       "      <td>40.0</td>\n",
       "      <td>68.0</td>\n",
       "      <td>15.0</td>\n",
       "      <td>21.0</td>\n",
       "      <td>13.0</td>\n",
       "      <td>90.0</td>\n",
       "      <td>85.0</td>\n",
       "      <td>87.0</td>\n",
       "      <td>88.0</td>\n",
       "      <td>94.0</td>\n",
       "      <td>€72M</td>\n",
       "    </tr>\n",
       "    <tr>\n",
       "      <th>4</th>\n",
       "      <td>K. De Bruyne</td>\n",
       "      <td>27</td>\n",
       "      <td>91</td>\n",
       "      <td>92</td>\n",
       "      <td>2281</td>\n",
       "      <td>4.0</td>\n",
       "      <td>5.0</td>\n",
       "      <td>4.0</td>\n",
       "      <td>High/ High</td>\n",
       "      <td>Normal</td>\n",
       "      <td>5'11</td>\n",
       "      <td>154lbs</td>\n",
       "      <td>93.0</td>\n",
       "      <td>82.0</td>\n",
       "      <td>55.0</td>\n",
       "      <td>92.0</td>\n",
       "      <td>82.0</td>\n",
       "      <td>86.0</td>\n",
       "      <td>85.0</td>\n",
       "      <td>83.0</td>\n",
       "      <td>91.0</td>\n",
       "      <td>91.0</td>\n",
       "      <td>78.0</td>\n",
       "      <td>76.0</td>\n",
       "      <td>79.0</td>\n",
       "      <td>91.0</td>\n",
       "      <td>77.0</td>\n",
       "      <td>91.0</td>\n",
       "      <td>63.0</td>\n",
       "      <td>90.0</td>\n",
       "      <td>75.0</td>\n",
       "      <td>91.0</td>\n",
       "      <td>76.0</td>\n",
       "      <td>61.0</td>\n",
       "      <td>87.0</td>\n",
       "      <td>94.0</td>\n",
       "      <td>79.0</td>\n",
       "      <td>88.0</td>\n",
       "      <td>68.0</td>\n",
       "      <td>58.0</td>\n",
       "      <td>51.0</td>\n",
       "      <td>15.0</td>\n",
       "      <td>13.0</td>\n",
       "      <td>5.0</td>\n",
       "      <td>10.0</td>\n",
       "      <td>13.0</td>\n",
       "      <td>€102M</td>\n",
       "    </tr>\n",
       "  </tbody>\n",
       "</table>\n",
       "</div>"
      ],
      "text/plain": [
       "                Name  Age  Overall  Potential  Special  \\\n",
       "0           L. Messi   31       94         94     2202   \n",
       "1  Cristiano Ronaldo   33       94         94     2228   \n",
       "2          Neymar Jr   26       92         93     2143   \n",
       "3             De Gea   27       91         93     1471   \n",
       "4       K. De Bruyne   27       91         92     2281   \n",
       "\n",
       "   International Reputation  Weak Foot  Skill Moves       Work Rate  \\\n",
       "0                       5.0        4.0          4.0  Medium/ Medium   \n",
       "1                       5.0        4.0          5.0       High/ Low   \n",
       "2                       5.0        5.0          5.0    High/ Medium   \n",
       "3                       4.0        3.0          1.0  Medium/ Medium   \n",
       "4                       4.0        5.0          4.0      High/ High   \n",
       "\n",
       "    Body Type Height  Weight  Crossing  Finishing  HeadingAccuracy  \\\n",
       "0       Messi    5'7  159lbs      84.0       95.0             70.0   \n",
       "1  C. Ronaldo    6'2  183lbs      84.0       94.0             89.0   \n",
       "2      Neymar    5'9  150lbs      79.0       87.0             62.0   \n",
       "3        Lean    6'4  168lbs      17.0       13.0             21.0   \n",
       "4      Normal   5'11  154lbs      93.0       82.0             55.0   \n",
       "\n",
       "   ShortPassing  Volleys  Dribbling  Curve  FKAccuracy  LongPassing  \\\n",
       "0          90.0     86.0       97.0   93.0        94.0         87.0   \n",
       "1          81.0     87.0       88.0   81.0        76.0         77.0   \n",
       "2          84.0     84.0       96.0   88.0        87.0         78.0   \n",
       "3          50.0     13.0       18.0   21.0        19.0         51.0   \n",
       "4          92.0     82.0       86.0   85.0        83.0         91.0   \n",
       "\n",
       "   BallControl  Acceleration  SprintSpeed  Agility  Reactions  Balance  \\\n",
       "0         96.0          91.0         86.0     91.0       95.0     95.0   \n",
       "1         94.0          89.0         91.0     87.0       96.0     70.0   \n",
       "2         95.0          94.0         90.0     96.0       94.0     84.0   \n",
       "3         42.0          57.0         58.0     60.0       90.0     43.0   \n",
       "4         91.0          78.0         76.0     79.0       91.0     77.0   \n",
       "\n",
       "   ShotPower  Jumping  Stamina  Strength  LongShots  Aggression  \\\n",
       "0       85.0     68.0     72.0      59.0       94.0        48.0   \n",
       "1       95.0     95.0     88.0      79.0       93.0        63.0   \n",
       "2       80.0     61.0     81.0      49.0       82.0        56.0   \n",
       "3       31.0     67.0     43.0      64.0       12.0        38.0   \n",
       "4       91.0     63.0     90.0      75.0       91.0        76.0   \n",
       "\n",
       "   Interceptions  Positioning  Vision  Penalties  Composure  Marking  \\\n",
       "0           22.0         94.0    94.0       75.0       96.0     33.0   \n",
       "1           29.0         95.0    82.0       85.0       95.0     28.0   \n",
       "2           36.0         89.0    87.0       81.0       94.0     27.0   \n",
       "3           30.0         12.0    68.0       40.0       68.0     15.0   \n",
       "4           61.0         87.0    94.0       79.0       88.0     68.0   \n",
       "\n",
       "   StandingTackle  SlidingTackle  GKDiving  GKHandling  GKKicking  \\\n",
       "0            28.0           26.0       6.0        11.0       15.0   \n",
       "1            31.0           23.0       7.0        11.0       15.0   \n",
       "2            24.0           33.0       9.0         9.0       15.0   \n",
       "3            21.0           13.0      90.0        85.0       87.0   \n",
       "4            58.0           51.0      15.0        13.0        5.0   \n",
       "\n",
       "   GKPositioning  GKReflexes    Value  \n",
       "0           14.0         8.0  €110.5M  \n",
       "1           14.0        11.0     €77M  \n",
       "2           15.0        11.0  €118.5M  \n",
       "3           88.0        94.0     €72M  \n",
       "4           10.0        13.0    €102M  "
      ]
     },
     "execution_count": 16,
     "metadata": {},
     "output_type": "execute_result"
    }
   ],
   "source": [
    "target = final_df['Value']\n",
    "final_df.drop(columns=['Value'], inplace=True)\n",
    "new_table = pd.concat([final_df, target], axis=1)\n",
    "new_table.head()"
   ]
  },
  {
   "cell_type": "code",
   "execution_count": 17,
   "metadata": {},
   "outputs": [
    {
     "name": "stdout",
     "output_type": "stream",
     "text": [
      "<class 'pandas.core.frame.DataFrame'>\n",
      "Int64Index: 18159 entries, 0 to 18206\n",
      "Data columns (total 47 columns):\n",
      "Name                        18159 non-null object\n",
      "Age                         18159 non-null int64\n",
      "Overall                     18159 non-null int64\n",
      "Potential                   18159 non-null int64\n",
      "Special                     18159 non-null int64\n",
      "International Reputation    18159 non-null float64\n",
      "Weak Foot                   18159 non-null float64\n",
      "Skill Moves                 18159 non-null float64\n",
      "Work Rate                   18159 non-null object\n",
      "Body Type                   18159 non-null object\n",
      "Height                      18159 non-null object\n",
      "Weight                      18159 non-null object\n",
      "Crossing                    18159 non-null float64\n",
      "Finishing                   18159 non-null float64\n",
      "HeadingAccuracy             18159 non-null float64\n",
      "ShortPassing                18159 non-null float64\n",
      "Volleys                     18159 non-null float64\n",
      "Dribbling                   18159 non-null float64\n",
      "Curve                       18159 non-null float64\n",
      "FKAccuracy                  18159 non-null float64\n",
      "LongPassing                 18159 non-null float64\n",
      "BallControl                 18159 non-null float64\n",
      "Acceleration                18159 non-null float64\n",
      "SprintSpeed                 18159 non-null float64\n",
      "Agility                     18159 non-null float64\n",
      "Reactions                   18159 non-null float64\n",
      "Balance                     18159 non-null float64\n",
      "ShotPower                   18159 non-null float64\n",
      "Jumping                     18159 non-null float64\n",
      "Stamina                     18159 non-null float64\n",
      "Strength                    18159 non-null float64\n",
      "LongShots                   18159 non-null float64\n",
      "Aggression                  18159 non-null float64\n",
      "Interceptions               18159 non-null float64\n",
      "Positioning                 18159 non-null float64\n",
      "Vision                      18159 non-null float64\n",
      "Penalties                   18159 non-null float64\n",
      "Composure                   18159 non-null float64\n",
      "Marking                     18159 non-null float64\n",
      "StandingTackle              18159 non-null float64\n",
      "SlidingTackle               18159 non-null float64\n",
      "GKDiving                    18159 non-null float64\n",
      "GKHandling                  18159 non-null float64\n",
      "GKKicking                   18159 non-null float64\n",
      "GKPositioning               18159 non-null float64\n",
      "GKReflexes                  18159 non-null float64\n",
      "Value                       18159 non-null object\n",
      "dtypes: float64(37), int64(4), object(6)\n",
      "memory usage: 6.7+ MB\n"
     ]
    }
   ],
   "source": [
    "new_table.info()"
   ]
  },
  {
   "cell_type": "code",
   "execution_count": 18,
   "metadata": {},
   "outputs": [],
   "source": [
    "weight_new = list(new_table.Weight)"
   ]
  },
  {
   "cell_type": "code",
   "execution_count": 19,
   "metadata": {},
   "outputs": [],
   "source": [
    "clean_weight = [int(item.replace('lbs', \"\")) for item in weight_new]"
   ]
  },
  {
   "cell_type": "code",
   "execution_count": 20,
   "metadata": {},
   "outputs": [
    {
     "data": {
      "text/plain": [
       "int"
      ]
     },
     "execution_count": 20,
     "metadata": {},
     "output_type": "execute_result"
    }
   ],
   "source": [
    "type(clean_weight[0])"
   ]
  },
  {
   "cell_type": "code",
   "execution_count": 21,
   "metadata": {},
   "outputs": [],
   "source": [
    "new_table[\"Weight\"] = clean_weight"
   ]
  },
  {
   "cell_type": "code",
   "execution_count": 22,
   "metadata": {},
   "outputs": [
    {
     "name": "stdout",
     "output_type": "stream",
     "text": [
      "<class 'pandas.core.frame.DataFrame'>\n",
      "Int64Index: 18159 entries, 0 to 18206\n",
      "Data columns (total 47 columns):\n",
      "Name                        18159 non-null object\n",
      "Age                         18159 non-null int64\n",
      "Overall                     18159 non-null int64\n",
      "Potential                   18159 non-null int64\n",
      "Special                     18159 non-null int64\n",
      "International Reputation    18159 non-null float64\n",
      "Weak Foot                   18159 non-null float64\n",
      "Skill Moves                 18159 non-null float64\n",
      "Work Rate                   18159 non-null object\n",
      "Body Type                   18159 non-null object\n",
      "Height                      18159 non-null object\n",
      "Weight                      18159 non-null int64\n",
      "Crossing                    18159 non-null float64\n",
      "Finishing                   18159 non-null float64\n",
      "HeadingAccuracy             18159 non-null float64\n",
      "ShortPassing                18159 non-null float64\n",
      "Volleys                     18159 non-null float64\n",
      "Dribbling                   18159 non-null float64\n",
      "Curve                       18159 non-null float64\n",
      "FKAccuracy                  18159 non-null float64\n",
      "LongPassing                 18159 non-null float64\n",
      "BallControl                 18159 non-null float64\n",
      "Acceleration                18159 non-null float64\n",
      "SprintSpeed                 18159 non-null float64\n",
      "Agility                     18159 non-null float64\n",
      "Reactions                   18159 non-null float64\n",
      "Balance                     18159 non-null float64\n",
      "ShotPower                   18159 non-null float64\n",
      "Jumping                     18159 non-null float64\n",
      "Stamina                     18159 non-null float64\n",
      "Strength                    18159 non-null float64\n",
      "LongShots                   18159 non-null float64\n",
      "Aggression                  18159 non-null float64\n",
      "Interceptions               18159 non-null float64\n",
      "Positioning                 18159 non-null float64\n",
      "Vision                      18159 non-null float64\n",
      "Penalties                   18159 non-null float64\n",
      "Composure                   18159 non-null float64\n",
      "Marking                     18159 non-null float64\n",
      "StandingTackle              18159 non-null float64\n",
      "SlidingTackle               18159 non-null float64\n",
      "GKDiving                    18159 non-null float64\n",
      "GKHandling                  18159 non-null float64\n",
      "GKKicking                   18159 non-null float64\n",
      "GKPositioning               18159 non-null float64\n",
      "GKReflexes                  18159 non-null float64\n",
      "Value                       18159 non-null object\n",
      "dtypes: float64(37), int64(5), object(5)\n",
      "memory usage: 6.7+ MB\n"
     ]
    }
   ],
   "source": [
    "new_table.info()"
   ]
  },
  {
   "cell_type": "code",
   "execution_count": 23,
   "metadata": {},
   "outputs": [],
   "source": [
    "height_new = list(new_table.Height)"
   ]
  },
  {
   "cell_type": "code",
   "execution_count": 24,
   "metadata": {},
   "outputs": [
    {
     "data": {
      "text/plain": [
       "[\"5'7\", \"6'2\", \"5'9\", \"6'4\", \"5'11\"]"
      ]
     },
     "execution_count": 24,
     "metadata": {},
     "output_type": "execute_result"
    }
   ],
   "source": [
    "height_new[:5]"
   ]
  },
  {
   "cell_type": "code",
   "execution_count": 25,
   "metadata": {},
   "outputs": [],
   "source": [
    "def convert_height(height):\n",
    "    split = height.split(\"'\")\n",
    "    height = int(split[0])*12 + int(split[1])\n",
    "    return height"
   ]
  },
  {
   "cell_type": "code",
   "execution_count": 26,
   "metadata": {},
   "outputs": [],
   "source": [
    "final_height = [convert_height(item) for item in height_new]"
   ]
  },
  {
   "cell_type": "code",
   "execution_count": 27,
   "metadata": {},
   "outputs": [
    {
     "data": {
      "text/plain": [
       "[67, 74, 69, 76, 71]"
      ]
     },
     "execution_count": 27,
     "metadata": {},
     "output_type": "execute_result"
    }
   ],
   "source": [
    "final_height[:5]"
   ]
  },
  {
   "cell_type": "code",
   "execution_count": 28,
   "metadata": {},
   "outputs": [],
   "source": [
    "new_table[\"Height\"] = final_height"
   ]
  },
  {
   "cell_type": "code",
   "execution_count": 29,
   "metadata": {},
   "outputs": [
    {
     "name": "stdout",
     "output_type": "stream",
     "text": [
      "<class 'pandas.core.frame.DataFrame'>\n",
      "Int64Index: 18159 entries, 0 to 18206\n",
      "Data columns (total 47 columns):\n",
      "Name                        18159 non-null object\n",
      "Age                         18159 non-null int64\n",
      "Overall                     18159 non-null int64\n",
      "Potential                   18159 non-null int64\n",
      "Special                     18159 non-null int64\n",
      "International Reputation    18159 non-null float64\n",
      "Weak Foot                   18159 non-null float64\n",
      "Skill Moves                 18159 non-null float64\n",
      "Work Rate                   18159 non-null object\n",
      "Body Type                   18159 non-null object\n",
      "Height                      18159 non-null int64\n",
      "Weight                      18159 non-null int64\n",
      "Crossing                    18159 non-null float64\n",
      "Finishing                   18159 non-null float64\n",
      "HeadingAccuracy             18159 non-null float64\n",
      "ShortPassing                18159 non-null float64\n",
      "Volleys                     18159 non-null float64\n",
      "Dribbling                   18159 non-null float64\n",
      "Curve                       18159 non-null float64\n",
      "FKAccuracy                  18159 non-null float64\n",
      "LongPassing                 18159 non-null float64\n",
      "BallControl                 18159 non-null float64\n",
      "Acceleration                18159 non-null float64\n",
      "SprintSpeed                 18159 non-null float64\n",
      "Agility                     18159 non-null float64\n",
      "Reactions                   18159 non-null float64\n",
      "Balance                     18159 non-null float64\n",
      "ShotPower                   18159 non-null float64\n",
      "Jumping                     18159 non-null float64\n",
      "Stamina                     18159 non-null float64\n",
      "Strength                    18159 non-null float64\n",
      "LongShots                   18159 non-null float64\n",
      "Aggression                  18159 non-null float64\n",
      "Interceptions               18159 non-null float64\n",
      "Positioning                 18159 non-null float64\n",
      "Vision                      18159 non-null float64\n",
      "Penalties                   18159 non-null float64\n",
      "Composure                   18159 non-null float64\n",
      "Marking                     18159 non-null float64\n",
      "StandingTackle              18159 non-null float64\n",
      "SlidingTackle               18159 non-null float64\n",
      "GKDiving                    18159 non-null float64\n",
      "GKHandling                  18159 non-null float64\n",
      "GKKicking                   18159 non-null float64\n",
      "GKPositioning               18159 non-null float64\n",
      "GKReflexes                  18159 non-null float64\n",
      "Value                       18159 non-null object\n",
      "dtypes: float64(37), int64(6), object(4)\n",
      "memory usage: 6.7+ MB\n"
     ]
    }
   ],
   "source": [
    "new_table.info()"
   ]
  },
  {
   "cell_type": "code",
   "execution_count": 30,
   "metadata": {},
   "outputs": [],
   "source": [
    "import re\n",
    "pattern = r'\\d+\\.?\\d?'\n",
    "matches = re.findall(pattern, \"$600.5K\")\n",
    "\n",
    "def convert_value(value):\n",
    "    pattern = r'\\d+\\.?\\d?'\n",
    "    if value.endswith(\"K\"):\n",
    "        matches = float(re.findall(pattern, value)[0])*1000\n",
    "    else:\n",
    "        matches = float(re.findall(pattern, value)[0])*1000000\n",
    "    return matches"
   ]
  },
  {
   "cell_type": "code",
   "execution_count": 31,
   "metadata": {},
   "outputs": [],
   "source": [
    "new_values = [convert_value(item) for item in list(new_table.Value)]"
   ]
  },
  {
   "cell_type": "code",
   "execution_count": 32,
   "metadata": {},
   "outputs": [
    {
     "data": {
      "text/plain": [
       "[110500000.0, 77000000.0, 118500000.0, 72000000.0, 102000000.0]"
      ]
     },
     "execution_count": 32,
     "metadata": {},
     "output_type": "execute_result"
    }
   ],
   "source": [
    "new_values[:5]"
   ]
  },
  {
   "cell_type": "code",
   "execution_count": 33,
   "metadata": {},
   "outputs": [],
   "source": [
    "new_table[\"Value\"] = new_values"
   ]
  },
  {
   "cell_type": "code",
   "execution_count": 34,
   "metadata": {},
   "outputs": [
    {
     "name": "stdout",
     "output_type": "stream",
     "text": [
      "<class 'pandas.core.frame.DataFrame'>\n",
      "Int64Index: 18159 entries, 0 to 18206\n",
      "Data columns (total 47 columns):\n",
      "Name                        18159 non-null object\n",
      "Age                         18159 non-null int64\n",
      "Overall                     18159 non-null int64\n",
      "Potential                   18159 non-null int64\n",
      "Special                     18159 non-null int64\n",
      "International Reputation    18159 non-null float64\n",
      "Weak Foot                   18159 non-null float64\n",
      "Skill Moves                 18159 non-null float64\n",
      "Work Rate                   18159 non-null object\n",
      "Body Type                   18159 non-null object\n",
      "Height                      18159 non-null int64\n",
      "Weight                      18159 non-null int64\n",
      "Crossing                    18159 non-null float64\n",
      "Finishing                   18159 non-null float64\n",
      "HeadingAccuracy             18159 non-null float64\n",
      "ShortPassing                18159 non-null float64\n",
      "Volleys                     18159 non-null float64\n",
      "Dribbling                   18159 non-null float64\n",
      "Curve                       18159 non-null float64\n",
      "FKAccuracy                  18159 non-null float64\n",
      "LongPassing                 18159 non-null float64\n",
      "BallControl                 18159 non-null float64\n",
      "Acceleration                18159 non-null float64\n",
      "SprintSpeed                 18159 non-null float64\n",
      "Agility                     18159 non-null float64\n",
      "Reactions                   18159 non-null float64\n",
      "Balance                     18159 non-null float64\n",
      "ShotPower                   18159 non-null float64\n",
      "Jumping                     18159 non-null float64\n",
      "Stamina                     18159 non-null float64\n",
      "Strength                    18159 non-null float64\n",
      "LongShots                   18159 non-null float64\n",
      "Aggression                  18159 non-null float64\n",
      "Interceptions               18159 non-null float64\n",
      "Positioning                 18159 non-null float64\n",
      "Vision                      18159 non-null float64\n",
      "Penalties                   18159 non-null float64\n",
      "Composure                   18159 non-null float64\n",
      "Marking                     18159 non-null float64\n",
      "StandingTackle              18159 non-null float64\n",
      "SlidingTackle               18159 non-null float64\n",
      "GKDiving                    18159 non-null float64\n",
      "GKHandling                  18159 non-null float64\n",
      "GKKicking                   18159 non-null float64\n",
      "GKPositioning               18159 non-null float64\n",
      "GKReflexes                  18159 non-null float64\n",
      "Value                       18159 non-null float64\n",
      "dtypes: float64(38), int64(6), object(3)\n",
      "memory usage: 6.7+ MB\n"
     ]
    }
   ],
   "source": [
    "new_table.info()"
   ]
  },
  {
   "cell_type": "code",
   "execution_count": null,
   "metadata": {
    "scrolled": false
   },
   "outputs": [],
   "source": [
    "new_table['Body Type'].value_counts()"
   ]
  },
  {
   "cell_type": "code",
   "execution_count": null,
   "metadata": {},
   "outputs": [],
   "source": [
    "list_body = list(new_table['Body Type'])\n",
    "names = ['Akinfenwa', 'PLAYER_BODY_TYPE_25', 'Shaqiri', 'Messi', 'Neymar', 'Courtois', 'C. Ronaldo']    "
   ]
  },
  {
   "cell_type": "code",
   "execution_count": null,
   "metadata": {},
   "outputs": [],
   "source": [
    "\n",
    "for idx, item in enumerate(list_body):\n",
    "    if item in names:\n",
    "        list_body[idx] = \"Lean\""
   ]
  },
  {
   "cell_type": "code",
   "execution_count": null,
   "metadata": {},
   "outputs": [],
   "source": [
    "set(list_body)"
   ]
  },
  {
   "cell_type": "code",
   "execution_count": null,
   "metadata": {},
   "outputs": [],
   "source": [
    "list_body[:5]"
   ]
  },
  {
   "cell_type": "code",
   "execution_count": null,
   "metadata": {},
   "outputs": [],
   "source": [
    "new_table['Body Type'] = list_body"
   ]
  },
  {
   "cell_type": "code",
   "execution_count": null,
   "metadata": {},
   "outputs": [],
   "source": [
    "new_table['Body Type'].value_counts()"
   ]
  },
  {
   "cell_type": "code",
   "execution_count": null,
   "metadata": {
    "scrolled": true
   },
   "outputs": [],
   "source": [
    "new_table.head()"
   ]
  },
  {
   "cell_type": "code",
   "execution_count": null,
   "metadata": {},
   "outputs": [],
   "source": [
    "test = new_table.set_index(\"Name\")"
   ]
  },
  {
   "cell_type": "code",
   "execution_count": null,
   "metadata": {
    "scrolled": true
   },
   "outputs": [],
   "source": [
    "test.head()"
   ]
  },
  {
   "cell_type": "code",
   "execution_count": null,
   "metadata": {
    "scrolled": false
   },
   "outputs": [],
   "source": [
    "test.shape"
   ]
  },
  {
   "cell_type": "code",
   "execution_count": null,
   "metadata": {},
   "outputs": [],
   "source": [
    "plot_table = test[:100]\n",
    "plot_table.head()"
   ]
  },
  {
   "cell_type": "code",
   "execution_count": null,
   "metadata": {},
   "outputs": [],
   "source": [
    "import seaborn as sns\n",
    "import matplotlib.pyplot as plt\n",
    "plt.figure(figsize = (8,6))\n",
    "plt.title(\"Regular Variables Correlation Heatmap\", fontsize = 18, color = \"#F97E77\")\n",
    "sns.heatmap(test.corr(), center = 0)"
   ]
  },
  {
   "cell_type": "code",
   "execution_count": null,
   "metadata": {},
   "outputs": [],
   "source": [
    "dummies_df = test[['Body Type', 'Work Rate']]"
   ]
  },
  {
   "cell_type": "code",
   "execution_count": null,
   "metadata": {},
   "outputs": [],
   "source": [
    "target = test.Value\n",
    "target.shape"
   ]
  },
  {
   "cell_type": "code",
   "execution_count": null,
   "metadata": {},
   "outputs": [],
   "source": [
    "test.drop(columns = ['Body Type', 'Work Rate', 'Value' ], inplace = True)"
   ]
  },
  {
   "cell_type": "code",
   "execution_count": null,
   "metadata": {
    "scrolled": false
   },
   "outputs": [],
   "source": [
    "test.head()"
   ]
  },
  {
   "cell_type": "code",
   "execution_count": null,
   "metadata": {},
   "outputs": [],
   "source": [
    "test.isna().sum()"
   ]
  },
  {
   "cell_type": "code",
   "execution_count": null,
   "metadata": {},
   "outputs": [],
   "source": [
    "from sklearn.preprocessing import StandardScaler"
   ]
  },
  {
   "cell_type": "code",
   "execution_count": null,
   "metadata": {},
   "outputs": [],
   "source": [
    "scaler = StandardScaler()\n",
    "scaled_df = pd.DataFrame(scaler.fit_transform(test), columns = test.columns, index = test.index)\n"
   ]
  },
  {
   "cell_type": "code",
   "execution_count": null,
   "metadata": {},
   "outputs": [],
   "source": [
    "scaled_df.shape"
   ]
  },
  {
   "cell_type": "code",
   "execution_count": null,
   "metadata": {},
   "outputs": [],
   "source": [
    "dummies_final = pd.get_dummies(dummies_df)\n",
    "# test_table = pd.concat([test_table, dummies], axis=1)\n",
    "# test_table.drop(columns=['Religious', ], inplace=True)\n",
    "# test_table.drop(columns=['Rel_Medium'], inplace=True)"
   ]
  },
  {
   "cell_type": "code",
   "execution_count": null,
   "metadata": {},
   "outputs": [],
   "source": [
    "dummies_final.drop(columns = [\"Body Type_Stocky\", \"Work Rate_Low/ High\"], inplace = True)"
   ]
  },
  {
   "cell_type": "code",
   "execution_count": null,
   "metadata": {},
   "outputs": [],
   "source": [
    "dummies_final.shape"
   ]
  },
  {
   "cell_type": "code",
   "execution_count": null,
   "metadata": {},
   "outputs": [],
   "source": [
    "final_df = pd.concat([scaled_df, dummies_final], axis = 1)"
   ]
  },
  {
   "cell_type": "code",
   "execution_count": null,
   "metadata": {},
   "outputs": [],
   "source": [
    "final_df.head()"
   ]
  },
  {
   "cell_type": "code",
   "execution_count": null,
   "metadata": {},
   "outputs": [],
   "source": [
    "final_df.shape"
   ]
  },
  {
   "cell_type": "markdown",
   "metadata": {},
   "source": [
    "### Ridge Regression"
   ]
  },
  {
   "cell_type": "code",
   "execution_count": 89,
   "metadata": {},
   "outputs": [
    {
     "data": {
      "text/plain": [
       "{'variables': ['Age',\n",
       "  'Overall',\n",
       "  'Potential',\n",
       "  'Special',\n",
       "  'International Reputation',\n",
       "  'Skill Moves',\n",
       "  'Height',\n",
       "  'Finishing',\n",
       "  'HeadingAccuracy',\n",
       "  'Volleys',\n",
       "  'Dribbling',\n",
       "  'Curve',\n",
       "  'FKAccuracy',\n",
       "  'BallControl',\n",
       "  'Acceleration',\n",
       "  'SprintSpeed',\n",
       "  'Reactions',\n",
       "  'ShotPower',\n",
       "  'Jumping',\n",
       "  'Stamina',\n",
       "  'LongShots',\n",
       "  'Vision',\n",
       "  'Penalties',\n",
       "  'Marking',\n",
       "  'StandingTackle',\n",
       "  'SlidingTackle',\n",
       "  'GKDiving',\n",
       "  'GKKicking',\n",
       "  'GKReflexes',\n",
       "  'Body Type_Lean',\n",
       "  'Body Type_Normal',\n",
       "  'Work Rate_High/ High',\n",
       "  'Work Rate_High/ Low',\n",
       "  'Work Rate_High/ Medium',\n",
       "  'Work Rate_Low/ High',\n",
       "  'Work Rate_Low/ Low',\n",
       "  'Work Rate_Low/ Medium',\n",
       "  'Work Rate_Medium/ Low',\n",
       "  'Work Rate_Medium/ Medium'],\n",
       " 'RMSE': 2530536.346171759,\n",
       " 'nu_var': 39}"
      ]
     },
     "execution_count": 89,
     "metadata": {},
     "output_type": "execute_result"
    }
   ],
   "source": [
    "from sklearn.model_selection import cross_val_score\n",
    "from sklearn.metrics import mean_squared_error\n",
    "from sklearn.model_selection import train_test_split\n",
    "from sklearn.linear_model import LinearRegression, Ridge\n",
    "from sklearn.feature_selection import RFE\n",
    "from sklearn.model_selection import KFold\n",
    "\n",
    "import numpy as np \n",
    "\n",
    "X = DF_final\n",
    "y = DF_target\n",
    "\n",
    "def MSE_test(X, y, random_state = 18):\n",
    "    poly_RSME = []\n",
    "    for i in range(1, len(X.columns)):\n",
    "        linreg = Ridge()\n",
    "        selector = RFE(linreg, n_features_to_select = i)\n",
    "        selector = selector.fit(X, y)\n",
    "        selected_columns = X.columns[selector.support_]\n",
    "        selected_var = [column for column in selected_columns]\n",
    "        X_train, X_test, y_train, y_test = train_test_split(X[selected_columns], y, random_state = random_state,  test_size=.20)\n",
    "        \n",
    "        crossvalidation = KFold(n_splits=5, shuffle=True, random_state=1)\n",
    "        cv_10_results = np.mean(cross_val_score(linreg, X_train, y_train, cv=crossvalidation, scoring='neg_mean_squared_error'))\n",
    "        cv_10_results= np.sqrt(abs(cv_10_results))\n",
    "        poly_RSME.append(dict(variables = selected_var, RMSE = cv_10_results, nu_var = len( selected_var)))\n",
    "    return poly_RSME\n",
    "\n",
    "poly_model_list = MSE_test(X, y)\n",
    "\n",
    "def find_best_model(model_list):\n",
    "    sorted_mse = sorted(model_list, key=lambda k: k['RMSE'])\n",
    "    return sorted_mse[0]\n",
    "    \n",
    "find_best_model(poly_model_list)"
   ]
  },
  {
   "cell_type": "code",
   "execution_count": 64,
   "metadata": {},
   "outputs": [
    {
     "ename": "NameError",
     "evalue": "name 'plt' is not defined",
     "output_type": "error",
     "traceback": [
      "\u001b[0;31m---------------------------------------------------------------------------\u001b[0m",
      "\u001b[0;31mNameError\u001b[0m                                 Traceback (most recent call last)",
      "\u001b[0;32m<ipython-input-64-dad3ce725842>\u001b[0m in \u001b[0;36m<module>\u001b[0;34m\u001b[0m\n\u001b[1;32m      5\u001b[0m \u001b[0mx_val\u001b[0m \u001b[0;34m=\u001b[0m \u001b[0;34m[\u001b[0m\u001b[0mitem\u001b[0m\u001b[0;34m[\u001b[0m\u001b[0;34m'nu_var'\u001b[0m\u001b[0;34m]\u001b[0m \u001b[0;32mfor\u001b[0m \u001b[0mitem\u001b[0m \u001b[0;32min\u001b[0m \u001b[0mpoly_model_list\u001b[0m\u001b[0;34m[\u001b[0m\u001b[0;34m:\u001b[0m\u001b[0;36m55\u001b[0m\u001b[0;34m]\u001b[0m\u001b[0;34m]\u001b[0m\u001b[0;34m\u001b[0m\u001b[0;34m\u001b[0m\u001b[0m\n\u001b[1;32m      6\u001b[0m \u001b[0my_val\u001b[0m \u001b[0;34m=\u001b[0m \u001b[0;34m[\u001b[0m\u001b[0mitem\u001b[0m\u001b[0;34m[\u001b[0m\u001b[0;34m'RMSE'\u001b[0m\u001b[0;34m]\u001b[0m \u001b[0;32mfor\u001b[0m \u001b[0mitem\u001b[0m \u001b[0;32min\u001b[0m \u001b[0mpoly_model_list\u001b[0m\u001b[0;34m[\u001b[0m\u001b[0;34m:\u001b[0m\u001b[0;36m55\u001b[0m\u001b[0;34m]\u001b[0m\u001b[0;34m]\u001b[0m\u001b[0;34m\u001b[0m\u001b[0;34m\u001b[0m\u001b[0m\n\u001b[0;32m----> 7\u001b[0;31m \u001b[0mplt\u001b[0m\u001b[0;34m.\u001b[0m\u001b[0mfigure\u001b[0m\u001b[0;34m(\u001b[0m\u001b[0mfigsize\u001b[0m \u001b[0;34m=\u001b[0m \u001b[0;34m(\u001b[0m\u001b[0;36m9\u001b[0m\u001b[0;34m,\u001b[0m\u001b[0;36m7\u001b[0m\u001b[0;34m)\u001b[0m\u001b[0;34m)\u001b[0m\u001b[0;34m\u001b[0m\u001b[0;34m\u001b[0m\u001b[0m\n\u001b[0m\u001b[1;32m      8\u001b[0m \u001b[0mplt\u001b[0m\u001b[0;34m.\u001b[0m\u001b[0mtitle\u001b[0m\u001b[0;34m(\u001b[0m\u001b[0;34m\"Minimizing RMSE Function\"\u001b[0m\u001b[0;34m,\u001b[0m \u001b[0mfontsize\u001b[0m \u001b[0;34m=\u001b[0m \u001b[0;36m25\u001b[0m\u001b[0;34m,\u001b[0m \u001b[0mcolor\u001b[0m \u001b[0;34m=\u001b[0m \u001b[0;34m\"#073A5A\"\u001b[0m\u001b[0;34m)\u001b[0m\u001b[0;34m\u001b[0m\u001b[0;34m\u001b[0m\u001b[0m\n\u001b[1;32m      9\u001b[0m \u001b[0mplt\u001b[0m\u001b[0;34m.\u001b[0m\u001b[0mplot\u001b[0m\u001b[0;34m(\u001b[0m\u001b[0mx_val\u001b[0m\u001b[0;34m,\u001b[0m \u001b[0my_val\u001b[0m\u001b[0;34m)\u001b[0m\u001b[0;34m\u001b[0m\u001b[0;34m\u001b[0m\u001b[0m\n",
      "\u001b[0;31mNameError\u001b[0m: name 'plt' is not defined"
     ]
    }
   ],
   "source": [
    "import matplotlib.patches as mpatches\n",
    "\n",
    "min_rmse = find_best_model(poly_model_list)['RMSE']\n",
    "min_var = find_best_model(poly_model_list)['nu_var']\n",
    "x_val = [item['nu_var'] for item in poly_model_list[:55]]\n",
    "y_val = [item['RMSE'] for item in poly_model_list[:55]]\n",
    "plt.figure(figsize = (9,7))\n",
    "plt.title(\"Minimizing RMSE Function\", fontsize = 25, color = \"#073A5A\")\n",
    "plt.plot(x_val, y_val)\n",
    "plt.xlabel(\"Number of Independent Variables\", fontsize = 18, color = \"#073A5A\")\n",
    "plt.ylabel(\"RMSE\", fontsize = 18, color = \"#073A5A\")\n",
    "\n",
    "rmse_patch = mpatches.Patch(color='blue', label=\"RMSE = {}\".format(round(min_rmse, 3)))\n",
    "vars_patch = mpatches.Patch(color='green', label=\"Variables Chosen = {}\".format(min_var))\n",
    "plt.legend(handles=[rmse_patch, vars_patch])"
   ]
  },
  {
   "cell_type": "code",
   "execution_count": 90,
   "metadata": {},
   "outputs": [
    {
     "name": "stdout",
     "output_type": "stream",
     "text": [
      "RMSE = 2283202.0965668387, z_score = 0.5610124130878089, R_squared = 0.6852650723613936\n"
     ]
    }
   ],
   "source": [
    "selected_variables = find_best_model(poly_model_list)['variables']\n",
    "X_train, X_test, y_train, y_test = train_test_split(X[selected_variables], y, random_state = 18,  test_size=.20)\n",
    "linreg = Ridge()\n",
    "linreg.fit(X_train[selected_variables], y_train)\n",
    "yhat = linreg.predict(X_test[selected_variables])\n",
    "\n",
    "RMSE = np.sqrt(mean_squared_error(y_test, yhat))\n",
    "z_score = RMSE/np.std(y_test)\n",
    "R_squared = linreg.score(X_test, y_test)\n",
    "print(\"RMSE = {}, z_score = {}, R_squared = {}\".format(RMSE, z_score, R_squared))"
   ]
  },
  {
   "cell_type": "code",
   "execution_count": null,
   "metadata": {},
   "outputs": [],
   "source": [
    "import matplotlib.patches as mpatches\n",
    "\n",
    "def bias(y, y_hat):\n",
    "    return np.mean(y_hat - y)\n",
    "\n",
    "def variance(y_hat):\n",
    "    return np.mean([yi**2 for yi in y_hat]) - np.mean(y_hat)**2\n",
    "\n",
    "selected_columns = find_best_model(poly_model_list)['variables']\n",
    "X_train, X_test, y_train, y_test = train_test_split(X[selected_columns], y, random_state = 12,  test_size=.20)\n",
    "\n",
    "reg = Ridge().fit(X_train, y_train)\n",
    "\n",
    "y_hat_train = reg.predict(X_train)\n",
    "y_hat_test = reg.predict(X_test)\n",
    "bias_train = bias(y_train, y_hat_train)\n",
    "bias_test = bias(y_test, y_hat_test)\n",
    "var_train = variance(y_hat_train)\n",
    "var_test = variance(y_hat_test)\n",
    "\n",
    "RMSE_train = np.sqrt(mean_squared_error(y_train, y_hat_train))\n",
    "z_score_train = RMSE/np.std(y_train)\n",
    "R_squared_train = linreg.score(X_train, y_train)\n",
    "\n",
    "f, (ax1, ax2) = plt.subplots(1, 2, sharey=True, figsize = (15,5))\n",
    "\n",
    "ax1.set_title(\"Polynomial y_hat_train vs y_train\", fontsize = 16)\n",
    "ax1.set_xlabel(\"y_train\",fontsize = 14, color = \"#073A5A\")\n",
    "ax1.set_ylabel(\"y_hat_train\",fontsize = 14, color = \"#073A5A\")\n",
    "ax1.scatter(y_train, y_hat_train, color = \"blue\", label='Actual Data')\n",
    "ax1.plot(y_train, y_train, color = \"red\", label='Model')\n",
    "\n",
    "R2_patch = mpatches.Patch(color='#aaff80', label=\"R_squared_train = {}\".format(round(R_squared_train, 3)))\n",
    "RMSE_patch = mpatches.Patch(color='#ffd480', label=\"RMSE_train = {}\".format(round(RMSE_train, 3)))\n",
    "z_patch = mpatches.Patch(color='#00cccc', label=\"z_score_train = {}\".format(round(z_score_train, 3)))\n",
    "Bias_patch = mpatches.Patch(color='#670000', label=\"Bias_train = {}\".format(round(bias_train, 20)))\n",
    "Variance_patch = mpatches.Patch(color='#7A9A01', label=\"Var_train = {}\".format(round(var_train, 3)))\n",
    "\n",
    "ax1.legend(handles=[R2_patch, RMSE_patch, z_patch, Bias_patch, Variance_patch])\n",
    "\n",
    "ax2.set_title(\"Polynomial y_hat_test vs y_test\", fontsize = 16)\n",
    "ax2.set_xlabel(\"y_test\", fontsize = 14, color = \"#073A5A\")\n",
    "ax2.set_ylabel(\"y_hat_test\", fontsize = 14, color = \"#073A5A\")\n",
    "ax2.scatter(y_test, y_hat_test, color = \"blue\")\n",
    "ax2.plot(y_test, y_test, color = \"red\")\n",
    "\n",
    "R2_patch = mpatches.Patch(color='#aaff80', label=\"R_squared = {}\".format(round(R_squared, 3)))\n",
    "RMSE_patch = mpatches.Patch(color='#ffd480', label=\"RMSE = {}\".format(round(RMSE, 3)))\n",
    "z_patch = mpatches.Patch(color='#00cccc', label=\"z_score = {}\".format(round(z_score, 3)))\n",
    "Bias_patch = mpatches.Patch(color='#670000', label=\"Bias = {}\".format(round(bias_test, 3)))\n",
    "Variance_patch = mpatches.Patch(color='#7A9A01', label=\"Var = {}\".format(round(var_test, 3)))\n",
    "\n",
    "ax2.legend(handles=[R2_patch, RMSE_patch, z_patch,  Bias_patch, Variance_patch], loc = \"upper left\")\n",
    "\n"
   ]
  },
  {
   "cell_type": "code",
   "execution_count": 91,
   "metadata": {},
   "outputs": [],
   "source": [
    "test = list(zip(linreg.coef_, selected_variables))\n",
    "combined = [str(round(item[0], 2)) + \"*\" +item[1] for item in test]\n",
    "one_string = \"  +  \".join(combined)\n",
    "equation = one_string.replace(\"+  -\", \"-  \")"
   ]
  },
  {
   "cell_type": "code",
   "execution_count": 92,
   "metadata": {
    "scrolled": true
   },
   "outputs": [
    {
     "data": {
      "text/plain": [
       "<BarContainer object of 39 artists>"
      ]
     },
     "execution_count": 92,
     "metadata": {},
     "output_type": "execute_result"
    },
    {
     "data": {
      "image/png": "[encoded data removed]",
      "text/plain": [
       "<Figure size 864x576 with 1 Axes>"
      ]
     },
     "metadata": {
      "needs_background": "light"
     },
     "output_type": "display_data"
    }
   ],
   "source": [
    "coefs = [item[0] for item in test]\n",
    "varias = [item[1] for item in test]\n",
    "plt.figure(figsize = (12,8))\n",
    "plt.title(\"Independent Variables Chart\", fontsize = 30, color = \"#535355\")\n",
    "plt.xlabel(\"Independent Variable\", fontsize = 18, color = \"#050594\")\n",
    "plt.ylabel(\"Coefficient Size\", fontsize = 18, color = \"#050594\")\n",
    "plt.xticks(rotation=90)\n",
    "plt.bar(varias, coefs)"
   ]
  },
  {
   "cell_type": "markdown",
   "metadata": {},
   "source": [
    "## Random Forest"
   ]
  },
  {
   "cell_type": "code",
   "execution_count": 93,
   "metadata": {},
   "outputs": [],
   "source": [
    "X_train, X_test, y_train, y_test = train_test_split(X, y, random_state = 18,  test_size=.20)"
   ]
  },
  {
   "cell_type": "code",
   "execution_count": 94,
   "metadata": {},
   "outputs": [
    {
     "data": {
      "text/plain": [
       "RandomForestClassifier(bootstrap=True, class_weight=None, criterion='entropy',\n",
       "            max_depth=10, max_features='auto', max_leaf_nodes=None,\n",
       "            min_impurity_decrease=0.0, min_impurity_split=None,\n",
       "            min_samples_leaf=5, min_samples_split=2,\n",
       "            min_weight_fraction_leaf=0.0, n_estimators=40, n_jobs=None,\n",
       "            oob_score=False, random_state=None, verbose=0,\n",
       "            warm_start=False)"
      ]
     },
     "execution_count": 94,
     "metadata": {},
     "output_type": "execute_result"
    }
   ],
   "source": [
    "from sklearn.metrics import accuracy_score, confusion_matrix, classification_report\n",
    "from sklearn.tree import DecisionTreeClassifier\n",
    "from sklearn.ensemble import RandomForestClassifier\n",
    "\n",
    "# y_train_new = [int(item) for item in y_train]\n",
    "forest = RandomForestClassifier(criterion= \"entropy\", n_estimators=40, max_depth=10, min_samples_leaf = 5)\n",
    "forest.fit(X_train, y_train.astype(int))"
   ]
  },
  {
   "cell_type": "code",
   "execution_count": 95,
   "metadata": {},
   "outputs": [
    {
     "data": {
      "text/plain": [
       "0.20357751277683134"
      ]
     },
     "execution_count": 95,
     "metadata": {},
     "output_type": "execute_result"
    }
   ],
   "source": [
    "forest.score(X_test, y_test.astype(int))"
   ]
  },
  {
   "cell_type": "code",
   "execution_count": 96,
   "metadata": {
    "scrolled": false
   },
   "outputs": [
    {
     "data": {
      "text/plain": [
       "<matplotlib.axes._subplots.AxesSubplot at 0x1a1a4c3cf8>"
      ]
     },
     "execution_count": 96,
     "metadata": {},
     "output_type": "execute_result"
    },
    {
     "data": {
      "image/png": "[encoded data removed]",
      "text/plain": [
       "<Figure size 432x288 with 1 Axes>"
      ]
     },
     "metadata": {
      "needs_background": "light"
     },
     "output_type": "display_data"
    }
   ],
   "source": [
    "feat_importances = pd.Series(forest.feature_importances_, index=X.columns)\n",
    "feat_importances.nlargest(20).plot(kind='barh')"
   ]
  },
  {
   "cell_type": "code",
   "execution_count": null,
   "metadata": {},
   "outputs": [],
   "source": [
    "top_features = ['International Reputation', 'Overall', 'Acceleration', 'Finishing','Potential', 'Skill Moves', \n",
    "                'Work Rate_High/ High', 'Age', 'BallControl', 'LongPassing', 'Volleys', 'Finishing', 'Height', 'Curve', 'Reactions', 'Composure', 'StandingTackle', 'Work Rate_Low/ Low']"
   ]
  },
  {
   "cell_type": "code",
   "execution_count": 97,
   "metadata": {},
   "outputs": [
    {
     "data": {
      "text/plain": [
       "<matplotlib.axes._subplots.AxesSubplot at 0x1a1a4a3f98>"
      ]
     },
     "execution_count": 97,
     "metadata": {},
     "output_type": "execute_result"
    },
    {
     "data": {
      "image/png": "[encoded data removed]",
      "text/plain": [
       "<Figure size 432x288 with 1 Axes>"
      ]
     },
     "metadata": {
      "needs_background": "light"
     },
     "output_type": "display_data"
    }
   ],
   "source": [
    "feat_importances = pd.Series(forest.feature_importances_, index=X.columns)\n",
    "feat_importances.nsmallest(20).plot(kind='barh')"
   ]
  },
  {
   "cell_type": "markdown",
   "metadata": {},
   "source": [
    "### Grid Search"
   ]
  },
  {
   "cell_type": "code",
   "execution_count": null,
   "metadata": {
    "scrolled": true
   },
   "outputs": [],
   "source": [
    "param_grid = {\n",
    "    \"criterion\": [\"gini\", \"entropy\"],\n",
    "    \"max_depth\": [1, 2, 5, 10],\n",
    "    \"min_samples_split\": [2, 5, 10, 20],\n",
    "    \"n_estimators\": [15, 20, 30, 40]\n",
    "}\n",
    "\n",
    "gs_tree = GridSearchCV(forest, param_grid, cv=3)\n",
    "gs_tree.fit(X_train, y_train.astype(int))\n",
    "\n",
    "gs_tree.best_params_"
   ]
  },
  {
   "cell_type": "code",
   "execution_count": null,
   "metadata": {
    "scrolled": true
   },
   "outputs": [],
   "source": [
    "dt_gs_training_score = np.mean(gs_tree.cv_results_['mean_train_score'])\n",
    "dt_gs_testing_score = gs_tree.score(X_test, y_test.astype(int))\n",
    "\n",
    "print(\"Mean Training Score: {:.4}%\".format(dt_gs_training_score * 100))\n",
    "print(\"Mean Testing Score: {:.4}%\".format(dt_gs_testing_score * 100))\n",
    "print(\"Best Parameter Combination Found During Grid Search:\")\n",
    "gs_tree.best_params_"
   ]
  },
  {
   "cell_type": "markdown",
   "metadata": {},
   "source": [
    "### SVM Linear"
   ]
  },
  {
   "cell_type": "code",
   "execution_count": 98,
   "metadata": {},
   "outputs": [],
   "source": [
    "from sklearn import svm\n",
    "from sklearn.svm import SVR\n",
    "\n",
    "svr_lin = SVR(kernel='linear', C=1e3)\n",
    "y_lin_hat = svr_lin.fit(X_train, y_train).predict(X_test)"
   ]
  },
  {
   "cell_type": "code",
   "execution_count": 99,
   "metadata": {},
   "outputs": [
    {
     "name": "stdout",
     "output_type": "stream",
     "text": [
      "RMSE = 3252161.6916327504, z_score = 0.7990983720267486, R_squared = 0.3614417918241999\n"
     ]
    }
   ],
   "source": [
    "from sklearn.metrics import mean_squared_error\n",
    "\n",
    "RMSE = np.sqrt(mean_squared_error(y_test, y_lin_hat))\n",
    "z_score = RMSE/np.std(y_test)\n",
    "R_squared = svr_lin.score(X_test, y_test)\n",
    "print(\"RMSE = {}, z_score = {}, R_squared = {}\".format(RMSE, z_score, R_squared))"
   ]
  },
  {
   "cell_type": "code",
   "execution_count": 100,
   "metadata": {},
   "outputs": [],
   "source": [
    "def plot_top_features(model, X, num_features =10):\n",
    "    coeffs = model.coef_.ravel()\n",
    "    n = num_features\n",
    "    feat_names = X.columns\n",
    "    combo = list(zip(feat_names, coeffs))\n",
    "    sorted_combos = sorted(combo, key = lambda x: x[1], reverse=True)\n",
    "    features = [item[0] for item in sorted_combos]\n",
    "    coeffi = [item[1] for item in sorted_combos]\n",
    "    plt.figure(figsize=(10,6))\n",
    "    plt.bar(features[:n], coeffi[:n])\n",
    "    plt.xticks(rotation=90)\n",
    "    plt.show()\n",
    "    \n",
    "def plot_bottom_features(model, X, num_features =10):\n",
    "    coeffs = model.coef_.ravel()\n",
    "    n = num_features\n",
    "    feat_names = X.columns\n",
    "    combo = list(zip(feat_names, coeffs))\n",
    "    sorted_combos = sorted(combo, key = lambda x: x[1])\n",
    "    features = [item[0] for item in sorted_combos]\n",
    "    coeffi = [item[1] for item in sorted_combos]\n",
    "    plt.figure(figsize=(10,6))\n",
    "    plt.bar(features[:n], coeffi[:n])\n",
    "    plt.xticks(rotation=90)\n",
    "    plt.show()"
   ]
  },
  {
   "cell_type": "code",
   "execution_count": 101,
   "metadata": {
    "scrolled": true
   },
   "outputs": [],
   "source": [
    "coeffs = svr_lin.coef_.ravel()\n",
    "feat_names = X.columns"
   ]
  },
  {
   "cell_type": "code",
   "execution_count": 80,
   "metadata": {
    "scrolled": true
   },
   "outputs": [
    {
     "data": {
      "text/plain": [
       "True"
      ]
     },
     "execution_count": 80,
     "metadata": {},
     "output_type": "execute_result"
    }
   ],
   "source": [
    "len(coeffs) == len(feat_names)"
   ]
  },
  {
   "cell_type": "code",
   "execution_count": 102,
   "metadata": {
    "scrolled": true
   },
   "outputs": [
    {
     "data": {
      "image/png": "[encoded data removed]",
      "text/plain": [
       "<Figure size 720x432 with 1 Axes>"
      ]
     },
     "metadata": {
      "needs_background": "light"
     },
     "output_type": "display_data"
    }
   ],
   "source": [
    "plot_top_features(svr_lin, X, 15)"
   ]
  },
  {
   "cell_type": "code",
   "execution_count": 103,
   "metadata": {
    "scrolled": false
   },
   "outputs": [
    {
     "data": {
      "image/png": "[encoded data removed]",
      "text/plain": [
       "<Figure size 720x432 with 1 Axes>"
      ]
     },
     "metadata": {
      "needs_background": "light"
     },
     "output_type": "display_data"
    }
   ],
   "source": [
    "plot_bottom_features(svr_lin, X, 15)"
   ]
  },
  {
   "cell_type": "code",
   "execution_count": null,
   "metadata": {},
   "outputs": [],
   "source": []
  },
  {
   "cell_type": "markdown",
   "metadata": {},
   "source": [
    "### SVM Poly"
   ]
  },
  {
   "cell_type": "code",
   "execution_count": 104,
   "metadata": {
    "scrolled": true
   },
   "outputs": [
    {
     "data": {
      "image/png": "[encoded data removed]",
      "text/plain": [
       "<Figure size 720x432 with 1 Axes>"
      ]
     },
     "metadata": {
      "needs_background": "light"
     },
     "output_type": "display_data"
    }
   ],
   "source": [
    "plot_top_features(linreg, X, 15)"
   ]
  },
  {
   "cell_type": "code",
   "execution_count": null,
   "metadata": {},
   "outputs": [],
   "source": [
    "top_features = ['International Reputation', 'Overall', 'Potential', 'Skill Moves', \n",
    "                'Work Rate_High/ High', 'Age', 'BallControl', 'LongPassing', 'Volleys', 'Finishing', 'Height', 'Curve']"
   ]
  },
  {
   "cell_type": "code",
   "execution_count": 105,
   "metadata": {
    "scrolled": true
   },
   "outputs": [
    {
     "data": {
      "image/png": "[encoded data removed]",
      "text/plain": [
       "<Figure size 720x432 with 1 Axes>"
      ]
     },
     "metadata": {
      "needs_background": "light"
     },
     "output_type": "display_data"
    }
   ],
   "source": [
    "plot_bottom_features(linreg, X, 15)"
   ]
  },
  {
   "cell_type": "code",
   "execution_count": null,
   "metadata": {},
   "outputs": [],
   "source": [
    "X_train.shape"
   ]
  },
  {
   "cell_type": "markdown",
   "metadata": {},
   "source": [
    "### Deep Learning NNs"
   ]
  },
  {
   "cell_type": "code",
   "execution_count": 106,
   "metadata": {
    "scrolled": true
   },
   "outputs": [
    {
     "name": "stdout",
     "output_type": "stream",
     "text": [
      "Train on 4692 samples, validate on 1174 samples\n",
      "Epoch 1/100\n",
      "4692/4692 [==============================] - 0s 87us/step - loss: 17134490145490.8242 - mean_squared_error: 17134490145490.8242 - val_loss: 16731060914165.5352 - val_mean_squared_error: 16731060914165.5352\n",
      "Epoch 2/100\n",
      "4692/4692 [==============================] - 0s 39us/step - loss: 17001477868684.5508 - mean_squared_error: 17001477868684.5508 - val_loss: 16573041579191.1680 - val_mean_squared_error: 16573041579191.1680\n",
      "Epoch 3/100\n",
      "4692/4692 [==============================] - 0s 42us/step - loss: 16986919251328.9805 - mean_squared_error: 16986919251328.9805 - val_loss: 16578499915657.3789 - val_mean_squared_error: 16578499915657.3789\n",
      "Epoch 4/100\n",
      "4692/4692 [==============================] - 0s 44us/step - loss: 16993302039371.2930 - mean_squared_error: 16993302039371.2930 - val_loss: 16566610435719.1934 - val_mean_squared_error: 16566610435719.1934\n",
      "Epoch 5/100\n",
      "4692/4692 [==============================] - 0s 42us/step - loss: 16985670279761.6230 - mean_squared_error: 16985670279761.6230 - val_loss: 16632797960467.6250 - val_mean_squared_error: 16632797960467.6250\n",
      "Epoch 6/100\n",
      "4692/4692 [==============================] - 0s 45us/step - loss: 16958646936452.9102 - mean_squared_error: 16958646936452.9102 - val_loss: 16587828512199.3066 - val_mean_squared_error: 16587828512199.3066\n",
      "Epoch 7/100\n",
      "4692/4692 [==============================] - 0s 45us/step - loss: 17012227544894.2012 - mean_squared_error: 17012227544894.2012 - val_loss: 16616231860150.7305 - val_mean_squared_error: 16616231860150.7305\n",
      "Epoch 8/100\n",
      "4692/4692 [==============================] - 0s 36us/step - loss: 17002521558481.2969 - mean_squared_error: 17002521558481.2969 - val_loss: 16773289095384.3125 - val_mean_squared_error: 16773289095384.3125\n",
      "Epoch 9/100\n",
      "4692/4692 [==============================] - 0s 47us/step - loss: 17001924034420.3223 - mean_squared_error: 17001924034420.3223 - val_loss: 16572938568656.9004 - val_mean_squared_error: 16572938568656.9004\n",
      "Epoch 10/100\n",
      "4692/4692 [==============================] - 0s 42us/step - loss: 16987253043776.1621 - mean_squared_error: 16987253043776.1621 - val_loss: 16657997024505.4590 - val_mean_squared_error: 16657997024505.4590\n",
      "Epoch 11/100\n",
      "4692/4692 [==============================] - 0s 41us/step - loss: 16997075066118.7637 - mean_squared_error: 16997075066118.7637 - val_loss: 16568455715119.5371 - val_mean_squared_error: 16568455715119.5371\n",
      "Epoch 12/100\n",
      "4692/4692 [==============================] - 0s 43us/step - loss: 16975339993278.3086 - mean_squared_error: 16975339993278.3086 - val_loss: 16563392400633.4590 - val_mean_squared_error: 16563392400633.4590\n",
      "Epoch 13/100\n",
      "4692/4692 [==============================] - 0s 44us/step - loss: 16972179579850.7461 - mean_squared_error: 16972179579850.7461 - val_loss: 16699925538065.8809 - val_mean_squared_error: 16699925538065.8809\n",
      "Epoch 14/100\n",
      "4692/4692 [==============================] - 0s 41us/step - loss: 16979695838769.3242 - mean_squared_error: 16979695838769.3242 - val_loss: 16580920900794.6602 - val_mean_squared_error: 16580920900794.6602\n",
      "Epoch 15/100\n",
      "4692/4692 [==============================] - 0s 43us/step - loss: 16995129958309.2129 - mean_squared_error: 16995129958309.2129 - val_loss: 16633904967338.0879 - val_mean_squared_error: 16633904967338.0879\n",
      "Epoch 16/100\n",
      "4692/4692 [==============================] - 0s 51us/step - loss: 16957066705603.1113 - mean_squared_error: 16957066705603.1113 - val_loss: 16632933246421.2598 - val_mean_squared_error: 16632933246421.2598\n",
      "Epoch 17/100\n",
      "4692/4692 [==============================] - 0s 41us/step - loss: 16979041480637.6543 - mean_squared_error: 16979041480637.6543 - val_loss: 16650568222597.8867 - val_mean_squared_error: 16650568222597.8867\n",
      "Epoch 18/100\n",
      "4692/4692 [==============================] - 0s 41us/step - loss: 16967957571051.4844 - mean_squared_error: 16967957571051.4844 - val_loss: 16614380753740.3184 - val_mean_squared_error: 16614380753740.3184\n",
      "Epoch 19/100\n",
      "4692/4692 [==============================] - 0s 42us/step - loss: 16977967457450.2305 - mean_squared_error: 16977967457450.2305 - val_loss: 16603335897304.3125 - val_mean_squared_error: 16603335897304.3125\n",
      "Epoch 20/100\n",
      "4692/4692 [==============================] - 0s 41us/step - loss: 16982057924714.5020 - mean_squared_error: 16982057924714.5020 - val_loss: 16571812008612.8496 - val_mean_squared_error: 16571812008612.8496\n",
      "Epoch 21/100\n",
      "4692/4692 [==============================] - 0s 41us/step - loss: 16976532886589.9805 - mean_squared_error: 16976532886589.9805 - val_loss: 16563205393266.6992 - val_mean_squared_error: 16563205393266.6992\n",
      "Epoch 22/100\n",
      "4692/4692 [==============================] - 0s 39us/step - loss: 16980791456320.1621 - mean_squared_error: 16980791456320.1621 - val_loss: 16564725281849.5664 - val_mean_squared_error: 16564725281849.5664\n",
      "Epoch 23/100\n",
      "4692/4692 [==============================] - 0s 44us/step - loss: 16980792055251.0430 - mean_squared_error: 16980792055251.0430 - val_loss: 16635389890287.8633 - val_mean_squared_error: 16635389890287.8633\n",
      "Epoch 24/100\n",
      "4692/4692 [==============================] - 0s 40us/step - loss: 16999523043221.4980 - mean_squared_error: 16999523043221.4980 - val_loss: 16574161701300.1152 - val_mean_squared_error: 16574161701300.1152\n",
      "Epoch 25/100\n",
      "4692/4692 [==============================] - 0s 40us/step - loss: 16966730689082.9277 - mean_squared_error: 16966730689082.9277 - val_loss: 16566457207862.0781 - val_mean_squared_error: 16566457207862.0781\n",
      "Epoch 26/100\n",
      "4692/4692 [==============================] - 0s 41us/step - loss: 16977784727215.0332 - mean_squared_error: 16977784727215.0332 - val_loss: 16564355682925.0273 - val_mean_squared_error: 16564355682925.0273\n",
      "Epoch 27/100\n",
      "4692/4692 [==============================] - 0s 40us/step - loss: 16979903335355.0352 - mean_squared_error: 16979903335355.0352 - val_loss: 16656413885532.4570 - val_mean_squared_error: 16656413885532.4570\n",
      "Epoch 28/100\n",
      "4692/4692 [==============================] - 0s 40us/step - loss: 17013134481786.8730 - mean_squared_error: 17013134481786.8730 - val_loss: 16580632701378.0723 - val_mean_squared_error: 16580632701378.0723\n",
      "Epoch 29/100\n",
      "4692/4692 [==============================] - 0s 41us/step - loss: 16981653449260.9570 - mean_squared_error: 16981653449260.9570 - val_loss: 16609275192538.0586 - val_mean_squared_error: 16609275192538.0586\n",
      "Epoch 30/100\n",
      "4692/4692 [==============================] - 0s 44us/step - loss: 17001824118670.5137 - mean_squared_error: 17001824118670.5137 - val_loss: 16565574353314.6719 - val_mean_squared_error: 16565574353314.6719\n",
      "Epoch 31/100\n",
      "4692/4692 [==============================] - 0s 40us/step - loss: 16962807313253.4844 - mean_squared_error: 16962807313253.4844 - val_loss: 16614726444417.5273 - val_mean_squared_error: 16614726444417.5273\n",
      "Epoch 32/100\n",
      "4692/4692 [==============================] - 0s 41us/step - loss: 17006100113266.5781 - mean_squared_error: 17006100113266.5781 - val_loss: 16632120233823.5098 - val_mean_squared_error: 16632120233823.5098\n",
      "Epoch 33/100\n",
      "4692/4692 [==============================] - 0s 41us/step - loss: 16975343537697.6094 - mean_squared_error: 16975343537697.6094 - val_loss: 16580147462562.6719 - val_mean_squared_error: 16580147462562.6719\n",
      "Epoch 34/100\n",
      "4692/4692 [==============================] - 0s 39us/step - loss: 16975909009123.4082 - mean_squared_error: 16975909009123.4082 - val_loss: 16585958631455.4004 - val_mean_squared_error: 16585958631455.4004\n",
      "Epoch 35/100\n",
      "4692/4692 [==============================] - 0s 40us/step - loss: 16985525998430.5000 - mean_squared_error: 16985525998430.5000 - val_loss: 16564362842537.6504 - val_mean_squared_error: 16564362842537.6504\n",
      "Epoch 36/100\n",
      "4692/4692 [==============================] - 0s 40us/step - loss: 16986310217738.4746 - mean_squared_error: 16986310217738.4746 - val_loss: 16565354055892.8242 - val_mean_squared_error: 16565354055892.8242\n",
      "Epoch 37/100\n",
      "4692/4692 [==============================] - 0s 39us/step - loss: 16990626364392.4316 - mean_squared_error: 16990626364392.4316 - val_loss: 16568456922678.9492 - val_mean_squared_error: 16568456922678.9492\n",
      "Epoch 38/100\n"
     ]
    },
    {
     "name": "stdout",
     "output_type": "stream",
     "text": [
      "4692/4692 [==============================] - 0s 42us/step - loss: 16971441010473.2500 - mean_squared_error: 16971441010473.2500 - val_loss: 16596508070564.8496 - val_mean_squared_error: 16596508070564.8496\n",
      "Epoch 39/100\n",
      "4692/4692 [==============================] - 0s 40us/step - loss: 16991074775448.5527 - mean_squared_error: 16991074775448.5527 - val_loss: 16726723064219.6934 - val_mean_squared_error: 16726723064219.6934\n",
      "Epoch 40/100\n",
      "4692/4692 [==============================] - 0s 39us/step - loss: 16989430738793.8477 - mean_squared_error: 16989430738793.8477 - val_loss: 16576097047483.9648 - val_mean_squared_error: 16576097047483.9648\n",
      "Epoch 41/100\n",
      "4692/4692 [==============================] - 0s 39us/step - loss: 16968314138292.2676 - mean_squared_error: 16968314138292.2676 - val_loss: 16563543091901.2754 - val_mean_squared_error: 16563543091901.2754\n",
      "Epoch 42/100\n",
      "4692/4692 [==============================] - 0s 41us/step - loss: 16988064177875.6973 - mean_squared_error: 16988064177875.6973 - val_loss: 16585755904380.2930 - val_mean_squared_error: 16585755904380.2930\n",
      "Epoch 43/100\n",
      "4692/4692 [==============================] - 0s 46us/step - loss: 16969013199686.0586 - mean_squared_error: 16969013199686.0586 - val_loss: 16594028354453.5879 - val_mean_squared_error: 16594028354453.5879\n",
      "Epoch 44/100\n",
      "4692/4692 [==============================] - 0s 38us/step - loss: 16982066435343.4941 - mean_squared_error: 16982066435343.4941 - val_loss: 16595307581446.9785 - val_mean_squared_error: 16595307581446.9785\n",
      "Epoch 45/100\n",
      "4692/4692 [==============================] - 0s 41us/step - loss: 16980367096361.4668 - mean_squared_error: 16980367096361.4668 - val_loss: 16563416962677.7539 - val_mean_squared_error: 16563416962677.7539\n",
      "Epoch 46/100\n",
      "4692/4692 [==============================] - 0s 39us/step - loss: 16994276574999.7891 - mean_squared_error: 16994276574999.7891 - val_loss: 16574051409682.7539 - val_mean_squared_error: 16574051409682.7539\n",
      "Epoch 47/100\n",
      "4692/4692 [==============================] - 0s 39us/step - loss: 16990797010079.7559 - mean_squared_error: 16990797010079.7559 - val_loss: 16654574729673.0508 - val_mean_squared_error: 16654574729673.0508\n",
      "Epoch 48/100\n",
      "4692/4692 [==============================] - 0s 42us/step - loss: 16994846726131.7793 - mean_squared_error: 16994846726131.7793 - val_loss: 16628194040167.3594 - val_mean_squared_error: 16628194040167.3594\n",
      "Epoch 49/100\n",
      "4692/4692 [==============================] - 0s 43us/step - loss: 16983360697706.2852 - mean_squared_error: 16983360697706.2852 - val_loss: 16576031324812.4316 - val_mean_squared_error: 16576031324812.4316\n",
      "Epoch 50/100\n",
      "4692/4692 [==============================] - 0s 40us/step - loss: 16986375416728.1152 - mean_squared_error: 16986375416728.1152 - val_loss: 16634897188183.6602 - val_mean_squared_error: 16634897188183.6602\n",
      "Epoch 51/100\n",
      "4692/4692 [==============================] - 0s 39us/step - loss: 16967006786384.5332 - mean_squared_error: 16967006786384.5332 - val_loss: 16698358136664.5312 - val_mean_squared_error: 16698358136664.5312\n",
      "Epoch 52/100\n",
      "4692/4692 [==============================] - 0s 41us/step - loss: 16978267176764.4551 - mean_squared_error: 16978267176764.4551 - val_loss: 16654325518705.8242 - val_mean_squared_error: 16654325518705.8242\n",
      "Epoch 53/100\n",
      "4692/4692 [==============================] - 0s 37us/step - loss: 16991798220480.4922 - mean_squared_error: 16991798220480.4922 - val_loss: 16566327702473.9219 - val_mean_squared_error: 16566327702473.9219\n",
      "Epoch 54/100\n",
      "4692/4692 [==============================] - 0s 43us/step - loss: 16994421162724.2812 - mean_squared_error: 16994421162724.2812 - val_loss: 16607946198377.1035 - val_mean_squared_error: 16607946198377.1035\n",
      "Epoch 55/100\n",
      "4692/4692 [==============================] - 0s 43us/step - loss: 16985112338327.2422 - mean_squared_error: 16985112338327.2422 - val_loss: 16564051942433.1445 - val_mean_squared_error: 16564051942433.1445\n",
      "Epoch 56/100\n",
      "4692/4692 [==============================] - 0s 41us/step - loss: 16964808556753.5137 - mean_squared_error: 16964808556753.5137 - val_loss: 16584618401275.6367 - val_mean_squared_error: 16584618401275.6367\n",
      "Epoch 57/100\n",
      "4692/4692 [==============================] - 0s 41us/step - loss: 17009958953399.9805 - mean_squared_error: 17009958953399.9805 - val_loss: 16575074126762.5215 - val_mean_squared_error: 16575074126762.5215\n",
      "Epoch 58/100\n",
      "4692/4692 [==============================] - 0s 42us/step - loss: 16988986177432.9883 - mean_squared_error: 16988986177432.9883 - val_loss: 16573010847161.3496 - val_mean_squared_error: 16573010847161.3496\n",
      "Epoch 59/100\n",
      "4692/4692 [==============================] - 0s 42us/step - loss: 16982321959592.9199 - mean_squared_error: 16982321959592.9199 - val_loss: 16565174540396.1562 - val_mean_squared_error: 16565174540396.1562\n",
      "Epoch 60/100\n",
      "4692/4692 [==============================] - 0s 43us/step - loss: 16988994220091.3613 - mean_squared_error: 16988994220091.3613 - val_loss: 16666696075309.3555 - val_mean_squared_error: 16666696075309.3555\n",
      "Epoch 61/100\n",
      "4692/4692 [==============================] - ETA: 0s - loss: 16475060337558.0684 - mean_squared_error: 16475060337558.06 - ETA: 0s - loss: 16254519690893.1016 - mean_squared_error: 16254519690893.10 - 0s 43us/step - loss: 16990003244305.2422 - mean_squared_error: 16990003244305.2422 - val_loss: 16591707561021.0566 - val_mean_squared_error: 16591707561021.0566\n",
      "Epoch 62/100\n",
      "4692/4692 [==============================] - 0s 44us/step - loss: 16972041830218.4219 - mean_squared_error: 16972041830218.4219 - val_loss: 16563187312029.4375 - val_mean_squared_error: 16563187312029.4375\n",
      "Epoch 63/100\n",
      "4692/4692 [==============================] - 0s 41us/step - loss: 16998085420495.5488 - mean_squared_error: 16998085420495.5488 - val_loss: 16573259711580.4570 - val_mean_squared_error: 16573259711580.4570\n",
      "Epoch 64/100\n",
      "4692/4692 [==============================] - 0s 41us/step - loss: 16984140766289.1855 - mean_squared_error: 16984140766289.1855 - val_loss: 16569396664707.2715 - val_mean_squared_error: 16569396664707.2715\n",
      "Epoch 65/100\n",
      "4692/4692 [==============================] - 0s 43us/step - loss: 16977914435082.9141 - mean_squared_error: 16977914435082.9141 - val_loss: 16593501901421.0273 - val_mean_squared_error: 16593501901421.0273\n",
      "Epoch 66/100\n",
      "4692/4692 [==============================] - 0s 41us/step - loss: 16989144262109.5176 - mean_squared_error: 16989144262109.5176 - val_loss: 16717660123603.5156 - val_mean_squared_error: 16717660123603.5156\n",
      "Epoch 67/100\n",
      "4692/4692 [==============================] - 0s 39us/step - loss: 16993231784332.3301 - mean_squared_error: 16993231784332.3301 - val_loss: 16622579485526.7871 - val_mean_squared_error: 16622579485526.7871\n",
      "Epoch 68/100\n",
      "4692/4692 [==============================] - 0s 42us/step - loss: 16977258295578.8457 - mean_squared_error: 16977258295578.8457 - val_loss: 16563981639610.2227 - val_mean_squared_error: 16563981639610.2227\n",
      "Epoch 69/100\n",
      "4692/4692 [==============================] - 0s 44us/step - loss: 16951005282415.7422 - mean_squared_error: 16951005282415.7422 - val_loss: 16616573699499.3945 - val_mean_squared_error: 16616573699499.3945\n",
      "Epoch 70/100\n",
      "4692/4692 [==============================] - 0s 40us/step - loss: 16994688604580.7734 - mean_squared_error: 16994688604580.7734 - val_loss: 16627083006907.9648 - val_mean_squared_error: 16627083006907.9648\n",
      "Epoch 71/100\n",
      "4692/4692 [==============================] - 0s 39us/step - loss: 16980340611548.6445 - mean_squared_error: 16980340611548.6445 - val_loss: 16648962797365.6445 - val_mean_squared_error: 16648962797365.6445\n",
      "Epoch 72/100\n",
      "4692/4692 [==============================] - 0s 41us/step - loss: 16989982688908.1113 - mean_squared_error: 16989982688908.1113 - val_loss: 16589667475135.0195 - val_mean_squared_error: 16589667475135.0195\n",
      "Epoch 73/100\n",
      "4692/4692 [==============================] - 0s 43us/step - loss: 16973927220820.2402 - mean_squared_error: 16973927220820.2402 - val_loss: 16586676164688.2461 - val_mean_squared_error: 16586676164688.2461\n",
      "Epoch 74/100\n",
      "4692/4692 [==============================] - 0s 39us/step - loss: 16959992177666.6172 - mean_squared_error: 16959992177666.6172 - val_loss: 16573728423266.1289 - val_mean_squared_error: 16573728423266.1289\n"
     ]
    },
    {
     "name": "stdout",
     "output_type": "stream",
     "text": [
      "Epoch 75/100\n",
      "4692/4692 [==============================] - 0s 41us/step - loss: 16971017528350.5527 - mean_squared_error: 16971017528350.5527 - val_loss: 16577974477260.5371 - val_mean_squared_error: 16577974477260.5371\n",
      "Epoch 76/100\n",
      "4692/4692 [==============================] - 0s 38us/step - loss: 16980514268204.5234 - mean_squared_error: 16980514268204.5234 - val_loss: 16597737073090.0723 - val_mean_squared_error: 16597737073090.0723\n",
      "Epoch 77/100\n",
      "4692/4692 [==============================] - 0s 42us/step - loss: 16997577092662.5605 - mean_squared_error: 16997577092662.5605 - val_loss: 16574732994800.7383 - val_mean_squared_error: 16574732994800.7383\n",
      "Epoch 78/100\n",
      "4692/4692 [==============================] - 0s 43us/step - loss: 16980058845410.9746 - mean_squared_error: 16980058845410.9746 - val_loss: 16615576330449.3379 - val_mean_squared_error: 16615576330449.3379\n",
      "Epoch 79/100\n",
      "4692/4692 [==============================] - 0s 45us/step - loss: 16988575982189.5586 - mean_squared_error: 16988575982189.5586 - val_loss: 16594907050423.6055 - val_mean_squared_error: 16594907050423.6055\n",
      "Epoch 80/100\n",
      "4692/4692 [==============================] - 0s 40us/step - loss: 16992667834816.7090 - mean_squared_error: 16992667834816.7090 - val_loss: 16604707506165.5352 - val_mean_squared_error: 16604707506165.5352\n",
      "Epoch 81/100\n",
      "4692/4692 [==============================] - 0s 39us/step - loss: 17006422919801.7793 - mean_squared_error: 17006422919801.7793 - val_loss: 16582111189965.4102 - val_mean_squared_error: 16582111189965.4102\n",
      "Epoch 82/100\n",
      "4692/4692 [==============================] - 0s 48us/step - loss: 16980868779190.4512 - mean_squared_error: 16980868779190.4512 - val_loss: 16563207211751.1406 - val_mean_squared_error: 16563207211751.1406\n",
      "Epoch 83/100\n",
      "4692/4692 [==============================] - 0s 42us/step - loss: 16977721681247.8105 - mean_squared_error: 16977721681247.8105 - val_loss: 16593823776740.0879 - val_mean_squared_error: 16593823776740.0879\n",
      "Epoch 84/100\n",
      "4692/4692 [==============================] - 0s 39us/step - loss: 16989053909140.4082 - mean_squared_error: 16989053909140.4082 - val_loss: 16614867757450.2461 - val_mean_squared_error: 16614867757450.2461\n",
      "Epoch 85/100\n",
      "4692/4692 [==============================] - 0s 39us/step - loss: 16990731115168.1895 - mean_squared_error: 16990731115168.1895 - val_loss: 16563185011235.7617 - val_mean_squared_error: 16563185011235.7617\n",
      "Epoch 86/100\n",
      "4692/4692 [==============================] - 0s 40us/step - loss: 16979608158864.4785 - mean_squared_error: 16979608158864.4785 - val_loss: 16577241527995.5273 - val_mean_squared_error: 16577241527995.5273\n",
      "Epoch 87/100\n",
      "4692/4692 [==============================] - 0s 41us/step - loss: 16987580542085.5645 - mean_squared_error: 16987580542085.5645 - val_loss: 16564332471346.5898 - val_mean_squared_error: 16564332471346.5898\n",
      "Epoch 88/100\n",
      "4692/4692 [==============================] - 0s 43us/step - loss: 16986022629009.3516 - mean_squared_error: 16986022629009.3516 - val_loss: 16571321678755.5430 - val_mean_squared_error: 16571321678755.5430\n",
      "Epoch 89/100\n",
      "4692/4692 [==============================] - 0s 43us/step - loss: 16994214066282.5020 - mean_squared_error: 16994214066282.5020 - val_loss: 16563397477384.7227 - val_mean_squared_error: 16563397477384.7227\n",
      "Epoch 90/100\n",
      "4692/4692 [==============================] - 0s 42us/step - loss: 16946025316086.6152 - mean_squared_error: 16946025316086.6152 - val_loss: 16615076436578.5625 - val_mean_squared_error: 16615076436578.5625\n",
      "Epoch 91/100\n",
      "4692/4692 [==============================] - 0s 43us/step - loss: 16941507366377.7383 - mean_squared_error: 16941507366377.7383 - val_loss: 16765147690516.0586 - val_mean_squared_error: 16765147690516.0586\n",
      "Epoch 92/100\n",
      "4692/4692 [==============================] - 0s 40us/step - loss: 16984853883786.1484 - mean_squared_error: 16984853883786.1484 - val_loss: 16716250901767.4121 - val_mean_squared_error: 16716250901767.4121\n",
      "Epoch 93/100\n",
      "4692/4692 [==============================] - 0s 40us/step - loss: 17000008193323.4297 - mean_squared_error: 17000008193323.4297 - val_loss: 16563537300617.8125 - val_mean_squared_error: 16563537300617.8125\n",
      "Epoch 94/100\n",
      "4692/4692 [==============================] - 0s 39us/step - loss: 16999844858615.4863 - mean_squared_error: 16999844858615.4863 - val_loss: 16589890823609.3496 - val_mean_squared_error: 16589890823609.3496\n",
      "Epoch 95/100\n",
      "4692/4692 [==============================] - 0s 41us/step - loss: 17011823355720.6758 - mean_squared_error: 17011823355720.6758 - val_loss: 16572683537824.9258 - val_mean_squared_error: 16572683537824.9258\n",
      "Epoch 96/100\n",
      "4692/4692 [==============================] - 0s 44us/step - loss: 16972362375789.5586 - mean_squared_error: 16972362375789.5586 - val_loss: 16572751243323.3125 - val_mean_squared_error: 16572751243323.3125\n",
      "Epoch 97/100\n",
      "4692/4692 [==============================] - 0s 45us/step - loss: 16972143488231.3379 - mean_squared_error: 16972143488231.3379 - val_loss: 16615409973063.0879 - val_mean_squared_error: 16615409973063.0879\n",
      "Epoch 98/100\n",
      "4692/4692 [==============================] - 0s 45us/step - loss: 16991683984695.6543 - mean_squared_error: 16991683984695.6543 - val_loss: 16573205228500.3867 - val_mean_squared_error: 16573205228500.3867\n",
      "Epoch 99/100\n",
      "4692/4692 [==============================] - 0s 40us/step - loss: 16987356770335.4258 - mean_squared_error: 16987356770335.4258 - val_loss: 16634625287246.5000 - val_mean_squared_error: 16634625287246.5000\n",
      "Epoch 100/100\n",
      "4692/4692 [==============================] - 0s 43us/step - loss: 16971972688118.1797 - mean_squared_error: 16971972688118.1797 - val_loss: 16622978891161.9492 - val_mean_squared_error: 16622978891161.9492\n"
     ]
    },
    {
     "data": {
      "text/plain": [
       "<keras.callbacks.History at 0x1a32f80e48>"
      ]
     },
     "execution_count": 106,
     "metadata": {},
     "output_type": "execute_result"
    }
   ],
   "source": [
    "from keras.models import Sequential\n",
    "from keras.layers import Dense\n",
    "\n",
    "model = Sequential()\n",
    "# Adding the input layer and the first hidden layer\n",
    "model.add(Dense(30, activation = 'tanh', input_dim = 54))\n",
    "# Adding the second hidden layer\n",
    "model.add(Dense(22, activation = 'relu'))\n",
    "# Adding the third hidden layer\n",
    "model.add(Dense(15, activation = 'tanh'))\n",
    "model.add(Dense(7, activation = 'tanh'))\n",
    "# Adding the output layer\n",
    "model.add(Dense(1, activation = 'linear'))\n",
    "#model.add(Dense(1))\n",
    "# Compiling the ANN\n",
    "model.compile(optimizer = 'sgd', loss = 'mean_squared_error', metrics = ['mse'])\n",
    "# Fitting the ANN to the Training set\n",
    "model.fit(X_train, y_train, batch_size = 32,epochs = 100, validation_data=(X_test, y_test))\n",
    "\n"
   ]
  },
  {
   "cell_type": "code",
   "execution_count": 107,
   "metadata": {},
   "outputs": [
    {
     "name": "stdout",
     "output_type": "stream",
     "text": [
      "1174/1174 [==============================] - 0s 15us/step\n"
     ]
    },
    {
     "data": {
      "text/plain": [
       "[16622978891161.95, 16622978891161.95]"
      ]
     },
     "execution_count": 107,
     "metadata": {},
     "output_type": "execute_result"
    }
   ],
   "source": [
    "model.evaluate(X_test, y_test)"
   ]
  },
  {
   "cell_type": "code",
   "execution_count": 108,
   "metadata": {},
   "outputs": [],
   "source": [
    "from sklearn.metrics import r2_score\n",
    "\n",
    "y_pred = model.predict(X_test)\n",
    "\n",
    "RMSE = np.sqrt(mean_squared_error(y_test, y_pred))\n",
    "z_score = RMSE/np.std(y_test)\n",
    "# R_squared = r2_score(X_test, y_test)\n",
    "# print(\"RMSE = {}, z_score = {}, R_squared = {}\".format(RMSE, z_score, R_squared))"
   ]
  },
  {
   "cell_type": "code",
   "execution_count": 109,
   "metadata": {},
   "outputs": [
    {
     "data": {
      "text/plain": [
       "(4077128.811353574, 1.001803509363736)"
      ]
     },
     "execution_count": 109,
     "metadata": {},
     "output_type": "execute_result"
    }
   ],
   "source": [
    "RMSE, z_score"
   ]
  },
  {
   "cell_type": "code",
   "execution_count": null,
   "metadata": {},
   "outputs": [],
   "source": [
    "model.evaluate(X_test, y_test)"
   ]
  },
  {
   "cell_type": "code",
   "execution_count": null,
   "metadata": {},
   "outputs": [],
   "source": [
    "top_features = ['International Reputation', 'Overall', 'Acceleration', 'Finishing','Potential', 'Skill Moves', \n",
    "                'Work Rate_High/ High', 'Age', 'BallControl', 'LongPassing', 'Volleys', 'Finishing', 'Height', 'Curve', 'Reactions', 'Composure', 'StandingTackle', 'Work Rate_Low/ Low']"
   ]
  },
  {
   "cell_type": "code",
   "execution_count": null,
   "metadata": {},
   "outputs": [],
   "source": [
    "len(top_features)"
   ]
  },
  {
   "cell_type": "code",
   "execution_count": null,
   "metadata": {},
   "outputs": [],
   "source": [
    "ultra_df = X[top_features]"
   ]
  },
  {
   "cell_type": "code",
   "execution_count": null,
   "metadata": {},
   "outputs": [],
   "source": [
    "ultra_df.head()"
   ]
  },
  {
   "cell_type": "code",
   "execution_count": null,
   "metadata": {},
   "outputs": [],
   "source": [
    "chart.Position.value_counts()"
   ]
  }
 ],
 "metadata": {
  "kernelspec": {
   "display_name": "Python 3",
   "language": "python",
   "name": "python3"
  },
  "language_info": {
   "codemirror_mode": {
    "name": "ipython",
    "version": 3
   },
   "file_extension": ".py",
   "mimetype": "text/x-python",
   "name": "python",
   "nbconvert_exporter": "python",
   "pygments_lexer": "ipython3",
   "version": "3.6.7"
  }
 },
 "nbformat": 4,
 "nbformat_minor": 2
}
